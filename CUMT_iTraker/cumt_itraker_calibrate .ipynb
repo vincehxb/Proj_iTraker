{
 "cells": [
  {
   "cell_type": "markdown",
   "metadata": {},
   "source": [
    "# 2017年11月13日17:20:39\n",
    "# 训练CUMT论文提出的结构"
   ]
  },
  {
   "cell_type": "code",
   "execution_count": 1,
   "metadata": {},
   "outputs": [
    {
     "name": "stdout",
     "output_type": "stream",
     "text": [
      "Cumt_itraker Init Ready!\n"
     ]
    }
   ],
   "source": [
    "import tensorflow as tf\n",
    "import numpy as np\n",
    "from cumt_eye import Cumt_itraker\n",
    "import matplotlib.pyplot as plt\n",
    "import os\n",
    "from scipy.misc import imread\n",
    "from scipy.misc import imresize\n",
    "import UI\n",
    "import cv2\n",
    "import pickle\n",
    "sess=tf.InteractiveSession()\n",
    "cumt_data=np.load(r'D:\\Proj_DL\\Code\\Proj_EyeTraker\\cumt_data.pkl')\n",
    "log_name=r'cumtdata/cumt_1024'\n",
    "\n",
    "X=tf.placeholder(shape=[None,32,128,3],dtype=tf.float32)\n",
    "Y=tf.placeholder(shape=[None,10],dtype=tf.float32)\n",
    "DROPOUT=tf.placeholder(dtype=tf.float32)\n",
    "LR=tf.placeholder(dtype=tf.float32)\n",
    "BN_FLAG=tf.placeholder(dtype=tf.bool)\n",
    "\n",
    "with tf.name_scope('model'):\n",
    "    model=Cumt_itraker(image=X,bn_flag=BN_FLAG,dropout_rate=DROPOUT)\n",
    "    y_score=model.score\n",
    "\n",
    "with tf.name_scope('LOSS'):\n",
    "    LOSS=tf.reduce_mean(tf.nn.softmax_cross_entropy_with_logits(logits=y_score,labels=Y))\n",
    "    tf.summary.scalar('loss',LOSS)\n",
    "with tf.name_scope('TRAIN'):\n",
    "    TRAIN=tf.train.AdamOptimizer(LR).minimize(LOSS)\n",
    "with tf.name_scope('ACCURACY'):\n",
    "    acc_count=tf.equal(tf.arg_max(y_score,1),tf.arg_max(Y,1))\n",
    "    ACCURACY=tf.reduce_mean(tf.cast(acc_count,tf.float32))\n",
    "    tf.summary.scalar('acc',ACCURACY)\n",
    "\n",
    "writer_tr=tf.summary.FileWriter(r'./mylog/'+log_name+r'/train',)\n",
    "writer_te=tf.summary.FileWriter(r'./mylog/'+log_name+r'/test',)\n",
    "writer_val=tf.summary.FileWriter(r'./mylog/'+log_name+r'/val',)\n",
    "merge=tf.summary.merge_all()\n",
    "ex_ops=tf.get_collection(tf.GraphKeys.UPDATE_OPS)\n",
    "\n"
   ]
  },
  {
   "cell_type": "code",
   "execution_count": 2,
   "metadata": {
    "collapsed": true
   },
   "outputs": [],
   "source": [
    "#初始化变量，需要重新训练才运行\n",
    "init=tf.global_variables_initializer()\n",
    "sess.run(init)"
   ]
  },
  {
   "cell_type": "code",
   "execution_count": null,
   "metadata": {
    "collapsed": true
   },
   "outputs": [],
   "source": [
    "#从保存的检查点钟复原变量，加载原数据训练好的模型\n",
    "saver=tf.train.Saver()\n",
    "saver.restore(sess,r'D:\\Proj_DL\\Code\\Proj_EyeTraker\\model_save\\model_71.ckpt-64600')\n"
   ]
  },
  {
   "cell_type": "code",
   "execution_count": 3,
   "metadata": {},
   "outputs": [
    {
     "name": "stdout",
     "output_type": "stream",
     "text": [
      "(966, 32, 128, 3) (966, 10)\n"
     ]
    }
   ],
   "source": [
    "cumt_picmean=[103.939, 116.779, 123.68]\n",
    "d=np.load('valimg1k_1109.pkl')\n",
    "val={}\n",
    "val_data=d['data'].astype('float32')-cumt_picmean\n",
    "val_label=d['label']\n",
    "del d\n",
    "print(val_data.shape,val_label.shape)\n"
   ]
  },
  {
   "cell_type": "code",
   "execution_count": 4,
   "metadata": {},
   "outputs": [
    {
     "name": "stdout",
     "output_type": "stream",
     "text": [
      "(1024, 32, 128, 3) (73805, 32, 128, 3)\n"
     ]
    }
   ],
   "source": [
    "data=cumt_data['data']\n",
    "label=cumt_data['labels']\n",
    "index=np.arange(data.shape[0])\n",
    "np.random.shuffle(index)\n",
    "# tr_index=index[:int(data.shape[0]*0.9)]\n",
    "# te_index=index[int(data.shape[0]*0.9):]\n",
    "tr_index=index[:1024]\n",
    "te_index=index[1024:]\n",
    "tr_data,tr_label=data[tr_index],label[tr_index]\n",
    "te_data,te_label=data[te_index],label[te_index]\n",
    "del data\n",
    "del label\n",
    "del cumt_data\n",
    "print(tr_data.shape,te_data.shape)\n"
   ]
  },
  {
   "cell_type": "code",
   "execution_count": null,
   "metadata": {
    "collapsed": true
   },
   "outputs": [],
   "source": [
    "%%timeit\n",
    "#mask=np.random.choice(te_data.shape[0],10,replace=False)\n",
    "x_,y_=te_data[:1],te_label[:1]\n",
    "feed_dict={X:x_,Y:y_,DROPOUT:1.,BN_FLAG:False,LR:lr_}\n",
    "sess.run(y_score,feed_dict=feed_dict)"
   ]
  },
  {
   "cell_type": "code",
   "execution_count": 5,
   "metadata": {
    "scrolled": true
   },
   "outputs": [
    {
     "name": "stdout",
     "output_type": "stream",
     "text": [
      "train epoch:0,loss:27.25509262084961,accuracy:0.09615384787321091\n",
      "--test epoch:0,loss:29.335969924926758,accuracy:0.11538462340831757\n",
      "@@val epoch:0,loss:29.302978515625,accuracy:0.10576923191547394\n",
      "$$$ lr change:0.0005\n",
      "train epoch:10,loss:4.893369674682617,accuracy:0.07692307978868484\n",
      "train epoch:20,loss:3.077115058898926,accuracy:0.19230769574642181\n",
      "--test epoch:20,loss:3.6634888648986816,accuracy:0.11538462340831757\n",
      "train epoch:30,loss:3.9928436279296875,accuracy:0.125\n",
      "@@val epoch:30,loss:3.5585885047912598,accuracy:0.13461539149284363\n",
      "train epoch:40,loss:3.4026331901550293,accuracy:0.1634615659713745\n",
      "--test epoch:40,loss:3.303652048110962,accuracy:0.10576923191547394\n",
      "train epoch:50,loss:2.692148208618164,accuracy:0.17307692766189575\n",
      "train epoch:60,loss:2.5019359588623047,accuracy:0.0961538553237915\n",
      "--test epoch:60,loss:2.542538642883301,accuracy:0.14423078298568726\n",
      "@@val epoch:60,loss:2.166677236557007,accuracy:0.15384617447853088\n",
      "train epoch:70,loss:2.2027082443237305,accuracy:0.2788461744785309\n",
      "train epoch:80,loss:2.2712948322296143,accuracy:0.29807692766189575\n",
      "--test epoch:80,loss:2.4272241592407227,accuracy:0.16346153616905212\n",
      "train epoch:90,loss:2.299856662750244,accuracy:0.259615421295166\n",
      "@@val epoch:90,loss:1.8839728832244873,accuracy:0.38461539149284363\n",
      "train epoch:100,loss:2.0649869441986084,accuracy:0.259615421295166\n",
      "--test epoch:100,loss:2.2687792778015137,accuracy:0.2788461446762085\n",
      "train epoch:110,loss:1.826920747756958,accuracy:0.4134615659713745\n",
      "train epoch:120,loss:1.6224552392959595,accuracy:0.4134615659713745\n",
      "--test epoch:120,loss:1.857115387916565,accuracy:0.2884615659713745\n",
      "@@val epoch:120,loss:1.6098978519439697,accuracy:0.4711538553237915\n",
      "train epoch:130,loss:1.5580947399139404,accuracy:0.32692307233810425\n",
      "train epoch:140,loss:1.2047464847564697,accuracy:0.6057692766189575\n",
      "--test epoch:140,loss:1.4966363906860352,accuracy:0.42307695746421814\n",
      "train epoch:150,loss:0.9619498252868652,accuracy:0.7788461446762085\n",
      "@@val epoch:150,loss:1.868679404258728,accuracy:0.33653849363327026\n",
      "train epoch:160,loss:1.1959209442138672,accuracy:0.6153846383094788\n",
      "--test epoch:160,loss:1.495500087738037,accuracy:0.39423078298568726\n",
      "train epoch:170,loss:1.0864007472991943,accuracy:0.5865384936332703\n",
      "train epoch:180,loss:0.769965648651123,accuracy:0.7307692766189575\n",
      "--test epoch:180,loss:1.2365992069244385,accuracy:0.5192307829856873\n",
      "@@val epoch:180,loss:2.3468844890594482,accuracy:0.21153847873210907\n",
      "train epoch:190,loss:0.8868926167488098,accuracy:0.6826923489570618\n",
      "train epoch:200,loss:0.6041839122772217,accuracy:0.8365384936332703\n",
      "--test epoch:200,loss:1.1649140119552612,accuracy:0.567307710647583\n",
      "train epoch:210,loss:0.6178175210952759,accuracy:0.884615421295166\n",
      "@@val epoch:210,loss:1.5478872060775757,accuracy:0.4326923191547394\n",
      "train epoch:220,loss:0.671734094619751,accuracy:0.836538553237915\n",
      "--test epoch:220,loss:1.0710220336914062,accuracy:0.6538462042808533\n",
      "train epoch:230,loss:0.5782197713851929,accuracy:0.836538553237915\n",
      "train epoch:240,loss:0.5128213763237,accuracy:0.8557692170143127\n",
      "--test epoch:240,loss:1.2305055856704712,accuracy:0.5000000596046448\n",
      "@@val epoch:240,loss:2.315126895904541,accuracy:0.3461538553237915\n",
      "train epoch:250,loss:0.6017690896987915,accuracy:0.817307710647583\n",
      "train epoch:260,loss:0.5144538283348083,accuracy:0.826923131942749\n",
      "--test epoch:260,loss:0.9207286834716797,accuracy:0.6442307829856873\n",
      "train epoch:270,loss:0.40985262393951416,accuracy:0.8653846383094788\n",
      "@@val epoch:270,loss:2.883007764816284,accuracy:0.23076924681663513\n",
      "train epoch:280,loss:0.8228327631950378,accuracy:0.6538461446762085\n",
      "--test epoch:280,loss:1.5638399124145508,accuracy:0.5384615659713745\n",
      "train epoch:290,loss:0.9049166440963745,accuracy:0.6538461446762085\n",
      "train epoch:300,loss:0.46994417905807495,accuracy:0.875\n",
      "--test epoch:300,loss:1.088515281677246,accuracy:0.5865384936332703\n",
      "@@val epoch:300,loss:2.2275404930114746,accuracy:0.40384620428085327\n",
      "train epoch:310,loss:0.37361377477645874,accuracy:0.903846263885498\n",
      "train epoch:320,loss:0.22558002173900604,accuracy:0.9519230723381042\n",
      "--test epoch:320,loss:0.6643402576446533,accuracy:0.701923131942749\n",
      "train epoch:330,loss:0.18402568995952606,accuracy:0.9903846383094788\n",
      "@@val epoch:330,loss:1.2847481966018677,accuracy:0.634615421295166\n",
      "train epoch:340,loss:0.3611341118812561,accuracy:0.8557692766189575\n",
      "--test epoch:340,loss:1.0751339197158813,accuracy:0.644230842590332\n",
      "train epoch:350,loss:0.11198455840349197,accuracy:0.9807692766189575\n",
      "train epoch:360,loss:0.08321775496006012,accuracy:0.9903846979141235\n",
      "--test epoch:360,loss:0.8651760816574097,accuracy:0.711538553237915\n",
      "@@val epoch:360,loss:1.8098849058151245,accuracy:0.519230842590332\n",
      "train epoch:370,loss:0.232493057847023,accuracy:0.9423077702522278\n",
      "train epoch:380,loss:0.1635468751192093,accuracy:0.9615384936332703\n",
      "--test epoch:380,loss:0.8785901069641113,accuracy:0.7211538553237915\n",
      "train epoch:390,loss:0.08919556438922882,accuracy:1.0\n",
      "@@val epoch:390,loss:2.0664706230163574,accuracy:0.509615421295166\n",
      "train epoch:400,loss:0.09720239788293839,accuracy:0.9807692170143127\n",
      "--test epoch:400,loss:0.6518837213516235,accuracy:0.7884615659713745\n",
      "$$$ lr change:0.00025\n",
      "train epoch:410,loss:0.08391658961772919,accuracy:0.9807692766189575\n",
      "train epoch:420,loss:0.07629214972257614,accuracy:1.0000001192092896\n",
      "--test epoch:420,loss:0.7426833510398865,accuracy:0.692307710647583\n",
      "@@val epoch:420,loss:1.3499755859375,accuracy:0.6538462042808533\n",
      "train epoch:430,loss:0.046859029680490494,accuracy:1.0\n",
      "train epoch:440,loss:0.09561995416879654,accuracy:0.9807692766189575\n",
      "--test epoch:440,loss:0.8284895420074463,accuracy:0.7211538553237915\n",
      "train epoch:450,loss:0.0337960422039032,accuracy:1.0\n",
      "@@val epoch:450,loss:1.119841456413269,accuracy:0.7019230723381042\n",
      "train epoch:460,loss:0.03083149529993534,accuracy:1.0\n",
      "--test epoch:460,loss:0.722373366355896,accuracy:0.7403846383094788\n",
      "train epoch:470,loss:0.08931268751621246,accuracy:0.9711538553237915\n",
      "train epoch:480,loss:0.06370574235916138,accuracy:1.0\n",
      "--test epoch:480,loss:0.6562010049819946,accuracy:0.7884615659713745\n",
      "@@val epoch:480,loss:2.049619436264038,accuracy:0.451923131942749\n",
      "train epoch:490,loss:0.024295026436448097,accuracy:1.0000001192092896\n",
      "train epoch:500,loss:0.044854145497083664,accuracy:1.0000001192092896\n",
      "--test epoch:500,loss:0.5368975400924683,accuracy:0.826923131942749\n",
      "train epoch:510,loss:0.04569161683320999,accuracy:1.0\n",
      "@@val epoch:510,loss:2.168560028076172,accuracy:0.4711538851261139\n",
      "train epoch:520,loss:0.14108222723007202,accuracy:0.9519230723381042\n",
      "--test epoch:520,loss:0.666756272315979,accuracy:0.759615421295166\n",
      "train epoch:530,loss:0.06865619122982025,accuracy:1.0\n",
      "train epoch:540,loss:0.026912735775113106,accuracy:1.0\n",
      "--test epoch:540,loss:0.7340812087059021,accuracy:0.7692307829856873\n",
      "@@val epoch:540,loss:1.4809645414352417,accuracy:0.5865384936332703\n",
      "train epoch:550,loss:0.04399476572871208,accuracy:1.0\n",
      "train epoch:560,loss:0.022214803844690323,accuracy:1.0\n",
      "--test epoch:560,loss:0.81705242395401,accuracy:0.7211538553237915\n",
      "train epoch:570,loss:0.01978311687707901,accuracy:1.0\n",
      "@@val epoch:570,loss:2.1733453273773193,accuracy:0.5288461446762085\n",
      "train epoch:580,loss:0.03186808153986931,accuracy:1.0000001192092896\n",
      "--test epoch:580,loss:0.6736339330673218,accuracy:0.7788461446762085\n",
      "train epoch:590,loss:0.023798994719982147,accuracy:1.0000001192092896\n",
      "train epoch:600,loss:0.01973988115787506,accuracy:1.0000001192092896\n",
      "--test epoch:600,loss:0.5536666512489319,accuracy:0.8365384936332703\n",
      "@@val epoch:600,loss:2.918773889541626,accuracy:0.49038466811180115\n",
      "train epoch:610,loss:0.023041093721985817,accuracy:1.0\n",
      "train epoch:620,loss:0.02628181502223015,accuracy:1.0\n",
      "--test epoch:620,loss:0.5008546113967896,accuracy:0.826923131942749\n",
      "train epoch:630,loss:0.03403931111097336,accuracy:0.9903846979141235\n",
      "@@val epoch:630,loss:1.4337736368179321,accuracy:0.576923131942749\n",
      "train epoch:640,loss:0.034926675260066986,accuracy:1.0\n",
      "--test epoch:640,loss:0.6797596216201782,accuracy:0.75\n",
      "train epoch:650,loss:0.018502669408917427,accuracy:1.0\n",
      "train epoch:660,loss:0.014416142366826534,accuracy:1.0\n",
      "--test epoch:660,loss:0.5701853632926941,accuracy:0.7692307829856873\n",
      "@@val epoch:660,loss:1.9402759075164795,accuracy:0.5384615659713745\n"
     ]
    },
    {
     "name": "stdout",
     "output_type": "stream",
     "text": [
      "train epoch:670,loss:0.016678836196660995,accuracy:0.9903846979141235\n",
      "train epoch:680,loss:0.013246400281786919,accuracy:1.0\n",
      "--test epoch:680,loss:0.6772924661636353,accuracy:0.7884615659713745\n",
      "train epoch:690,loss:0.015223443508148193,accuracy:1.0\n",
      "@@val epoch:690,loss:1.6463299989700317,accuracy:0.625\n",
      "train epoch:700,loss:0.04591897875070572,accuracy:0.9807692766189575\n",
      "--test epoch:700,loss:0.8420087099075317,accuracy:0.7115384936332703\n",
      "train epoch:710,loss:0.008216409012675285,accuracy:1.0\n",
      "train epoch:720,loss:0.011447476223111153,accuracy:1.0\n",
      "--test epoch:720,loss:0.9727685451507568,accuracy:0.701923131942749\n",
      "@@val epoch:720,loss:1.976576566696167,accuracy:0.5961539149284363\n",
      "train epoch:730,loss:0.030292285606265068,accuracy:1.0\n",
      "train epoch:740,loss:0.008957062847912312,accuracy:1.0\n",
      "--test epoch:740,loss:0.8994140625,accuracy:0.7788461446762085\n",
      "train epoch:750,loss:0.015728840604424477,accuracy:1.0000001192092896\n",
      "@@val epoch:750,loss:2.885708808898926,accuracy:0.46153849363327026\n",
      "train epoch:760,loss:0.014083092100918293,accuracy:1.0\n",
      "--test epoch:760,loss:0.7480566501617432,accuracy:0.826923131942749\n",
      "train epoch:770,loss:0.031186889857053757,accuracy:1.0000001192092896\n",
      "train epoch:780,loss:0.009748824872076511,accuracy:1.0\n",
      "--test epoch:780,loss:0.7037694454193115,accuracy:0.8269230723381042\n",
      "@@val epoch:780,loss:1.6615941524505615,accuracy:0.6538462042808533\n",
      "train epoch:790,loss:0.005424631759524345,accuracy:1.0\n",
      "train epoch:800,loss:0.01396472193300724,accuracy:1.0\n",
      "--test epoch:800,loss:1.0273188352584839,accuracy:0.75\n",
      "$$$ lr change:0.000125\n",
      "train epoch:810,loss:0.005467014387249947,accuracy:1.0\n",
      "@@val epoch:810,loss:1.390558123588562,accuracy:0.6634615659713745\n",
      "train epoch:820,loss:0.006385302171111107,accuracy:1.0\n",
      "--test epoch:820,loss:0.5596975088119507,accuracy:0.7788462042808533\n",
      "train epoch:830,loss:0.005669639445841312,accuracy:1.0000001192092896\n",
      "train epoch:840,loss:0.005336093716323376,accuracy:1.0\n",
      "--test epoch:840,loss:0.7749350070953369,accuracy:0.8076923489570618\n",
      "@@val epoch:840,loss:1.6972754001617432,accuracy:0.634615421295166\n",
      "train epoch:850,loss:0.008209049701690674,accuracy:1.0\n",
      "train epoch:860,loss:0.01140090636909008,accuracy:0.9903846383094788\n",
      "--test epoch:860,loss:0.6166224479675293,accuracy:0.7884615659713745\n",
      "train epoch:870,loss:0.003286029677838087,accuracy:1.0000001192092896\n",
      "@@val epoch:870,loss:1.9163061380386353,accuracy:0.6634616255760193\n",
      "train epoch:880,loss:0.004638119600713253,accuracy:1.0000001192092896\n",
      "--test epoch:880,loss:0.5720304846763611,accuracy:0.7884615659713745\n",
      "train epoch:890,loss:0.0016994175966829062,accuracy:1.0\n",
      "train epoch:900,loss:0.004633457865566015,accuracy:1.0\n",
      "--test epoch:900,loss:0.673667311668396,accuracy:0.817307710647583\n",
      "@@val epoch:900,loss:1.3973814249038696,accuracy:0.682692289352417\n",
      "train epoch:910,loss:0.0034093018621206284,accuracy:1.0\n",
      "train epoch:920,loss:0.0019226758740842342,accuracy:1.0000001192092896\n",
      "--test epoch:920,loss:0.43159520626068115,accuracy:0.8461539149284363\n",
      "train epoch:930,loss:0.006956823635846376,accuracy:1.0\n",
      "@@val epoch:930,loss:1.0944613218307495,accuracy:0.682692289352417\n",
      "train epoch:940,loss:0.002362028229981661,accuracy:1.0\n",
      "--test epoch:940,loss:0.6098328828811646,accuracy:0.7884615659713745\n",
      "train epoch:950,loss:0.003247632645070553,accuracy:1.0000001192092896\n",
      "train epoch:960,loss:0.008241603150963783,accuracy:1.0\n",
      "--test epoch:960,loss:1.1112905740737915,accuracy:0.692307710647583\n",
      "@@val epoch:960,loss:1.935813307762146,accuracy:0.6153846979141235\n",
      "train epoch:970,loss:0.0014805553946644068,accuracy:1.0000001192092896\n",
      "train epoch:980,loss:0.0031250908505171537,accuracy:1.0\n",
      "--test epoch:980,loss:0.5592214465141296,accuracy:0.8557692766189575\n",
      "train epoch:990,loss:0.010667016729712486,accuracy:1.0\n",
      "@@val epoch:990,loss:1.946408987045288,accuracy:0.6442307829856873\n",
      "train epoch:1000,loss:0.002985967556014657,accuracy:1.0000001192092896\n",
      "--test epoch:1000,loss:0.4636710584163666,accuracy:0.8750000596046448\n",
      "train epoch:1010,loss:0.003917493857443333,accuracy:1.0\n",
      "train epoch:1020,loss:0.0018645229283720255,accuracy:1.0\n",
      "--test epoch:1020,loss:0.8579552173614502,accuracy:0.7884616255760193\n",
      "@@val epoch:1020,loss:1.6210753917694092,accuracy:0.6826923489570618\n",
      "train epoch:1030,loss:0.0018366872100159526,accuracy:1.0000001192092896\n",
      "train epoch:1040,loss:0.0023409221321344376,accuracy:1.0\n",
      "--test epoch:1040,loss:0.7583059072494507,accuracy:0.7403846383094788\n",
      "train epoch:1050,loss:0.0024540822487324476,accuracy:1.0\n",
      "@@val epoch:1050,loss:2.1970837116241455,accuracy:0.6442307829856873\n",
      "train epoch:1060,loss:0.002195480279624462,accuracy:1.0000001192092896\n",
      "--test epoch:1060,loss:0.6601600050926208,accuracy:0.7884615659713745\n",
      "train epoch:1070,loss:0.0021007379982620478,accuracy:1.0\n",
      "train epoch:1080,loss:0.00427811685949564,accuracy:1.0\n",
      "--test epoch:1080,loss:0.5855484008789062,accuracy:0.836538553237915\n",
      "@@val epoch:1080,loss:2.262773275375366,accuracy:0.6538462042808533\n",
      "train epoch:1090,loss:0.0031825145706534386,accuracy:1.0\n",
      "train epoch:1100,loss:0.0018714549951255322,accuracy:1.0000001192092896\n",
      "--test epoch:1100,loss:0.6805990934371948,accuracy:0.8076923489570618\n",
      "train epoch:1110,loss:0.002354312688112259,accuracy:1.0\n",
      "@@val epoch:1110,loss:2.427827835083008,accuracy:0.576923131942749\n",
      "train epoch:1120,loss:0.0015437842812389135,accuracy:1.0\n",
      "--test epoch:1120,loss:0.661806583404541,accuracy:0.759615421295166\n",
      "train epoch:1130,loss:0.0016366010531783104,accuracy:1.0\n",
      "train epoch:1140,loss:0.007013256195932627,accuracy:1.0000001192092896\n",
      "--test epoch:1140,loss:0.8620224595069885,accuracy:0.7788462042808533\n",
      "@@val epoch:1140,loss:2.082059144973755,accuracy:0.5288461446762085\n",
      "train epoch:1150,loss:0.002256877953186631,accuracy:1.0\n",
      "train epoch:1160,loss:0.0015857354737818241,accuracy:1.0\n",
      "--test epoch:1160,loss:0.43088772892951965,accuracy:0.8653846383094788\n",
      "train epoch:1170,loss:0.000856309721712023,accuracy:1.0\n",
      "@@val epoch:1170,loss:1.8195475339889526,accuracy:0.692307710647583\n",
      "train epoch:1180,loss:0.0014544455334544182,accuracy:1.0\n",
      "--test epoch:1180,loss:0.4950560927391052,accuracy:0.8461538553237915\n",
      "train epoch:1190,loss:0.0020662201568484306,accuracy:1.0000001192092896\n",
      "train epoch:1200,loss:0.0017920240061357617,accuracy:1.0\n",
      "--test epoch:1200,loss:0.8497462272644043,accuracy:0.759615421295166\n",
      "@@val epoch:1200,loss:1.8702096939086914,accuracy:0.6442307829856873\n",
      "$$$ lr change:6.25e-05\n",
      "train epoch:1210,loss:0.0020151727367192507,accuracy:1.0\n",
      "train epoch:1220,loss:0.002423929050564766,accuracy:1.0000001192092896\n",
      "--test epoch:1220,loss:0.6633871793746948,accuracy:0.7884615659713745\n",
      "train epoch:1230,loss:0.000985930790193379,accuracy:1.0\n",
      "@@val epoch:1230,loss:1.9578571319580078,accuracy:0.5961538553237915\n",
      "train epoch:1240,loss:0.0008729127002879977,accuracy:1.0\n",
      "--test epoch:1240,loss:0.5451933145523071,accuracy:0.8269230723381042\n",
      "train epoch:1250,loss:0.0017574159428477287,accuracy:1.0\n",
      "train epoch:1260,loss:0.0009956287685781717,accuracy:1.0\n",
      "--test epoch:1260,loss:0.3609406650066376,accuracy:0.8653846979141235\n",
      "@@val epoch:1260,loss:1.9577627182006836,accuracy:0.6634615659713745\n"
     ]
    },
    {
     "ename": "KeyboardInterrupt",
     "evalue": "",
     "output_type": "error",
     "traceback": [
      "\u001b[1;31m---------------------------------------------------------------------------\u001b[0m",
      "\u001b[1;31mKeyboardInterrupt\u001b[0m                         Traceback (most recent call last)",
      "\u001b[1;32m<ipython-input-5-95dbf46e9b5f>\u001b[0m in \u001b[0;36m<module>\u001b[1;34m()\u001b[0m\n\u001b[0;32m      6\u001b[0m     \u001b[0mx_\u001b[0m\u001b[1;33m,\u001b[0m\u001b[0my_\u001b[0m\u001b[1;33m=\u001b[0m\u001b[0mtr_data\u001b[0m\u001b[1;33m[\u001b[0m\u001b[0mmask\u001b[0m\u001b[1;33m]\u001b[0m\u001b[1;33m,\u001b[0m\u001b[0mtr_label\u001b[0m\u001b[1;33m[\u001b[0m\u001b[0mmask\u001b[0m\u001b[1;33m]\u001b[0m\u001b[1;33m\u001b[0m\u001b[0m\n\u001b[0;32m      7\u001b[0m     \u001b[0mfeed_dict\u001b[0m\u001b[1;33m=\u001b[0m\u001b[1;33m{\u001b[0m\u001b[0mX\u001b[0m\u001b[1;33m:\u001b[0m\u001b[0mx_\u001b[0m\u001b[1;33m,\u001b[0m\u001b[0mY\u001b[0m\u001b[1;33m:\u001b[0m\u001b[0my_\u001b[0m\u001b[1;33m,\u001b[0m\u001b[0mDROPOUT\u001b[0m\u001b[1;33m:\u001b[0m\u001b[1;36m0.5\u001b[0m\u001b[1;33m,\u001b[0m\u001b[0mBN_FLAG\u001b[0m\u001b[1;33m:\u001b[0m\u001b[1;32mTrue\u001b[0m\u001b[1;33m,\u001b[0m\u001b[0mLR\u001b[0m\u001b[1;33m:\u001b[0m\u001b[0mlr_\u001b[0m\u001b[1;33m}\u001b[0m\u001b[1;33m\u001b[0m\u001b[0m\n\u001b[1;32m----> 8\u001b[1;33m     \u001b[0msess\u001b[0m\u001b[1;33m.\u001b[0m\u001b[0mrun\u001b[0m\u001b[1;33m(\u001b[0m\u001b[1;33m[\u001b[0m\u001b[0mTRAIN\u001b[0m\u001b[1;33m,\u001b[0m\u001b[0mex_ops\u001b[0m\u001b[1;33m]\u001b[0m\u001b[1;33m,\u001b[0m\u001b[0mfeed_dict\u001b[0m\u001b[1;33m=\u001b[0m\u001b[0mfeed_dict\u001b[0m\u001b[1;33m)\u001b[0m\u001b[1;33m\u001b[0m\u001b[0m\n\u001b[0m\u001b[0;32m      9\u001b[0m     \u001b[1;32mif\u001b[0m \u001b[0mi\u001b[0m\u001b[1;33m%\u001b[0m\u001b[1;36m10\u001b[0m\u001b[1;33m==\u001b[0m\u001b[1;36m0\u001b[0m\u001b[1;33m:\u001b[0m\u001b[1;33m\u001b[0m\u001b[0m\n\u001b[0;32m     10\u001b[0m         \u001b[0mfeed_dict\u001b[0m\u001b[1;33m=\u001b[0m\u001b[1;33m{\u001b[0m\u001b[0mX\u001b[0m\u001b[1;33m:\u001b[0m\u001b[0mx_\u001b[0m\u001b[1;33m,\u001b[0m\u001b[0mY\u001b[0m\u001b[1;33m:\u001b[0m\u001b[0my_\u001b[0m\u001b[1;33m,\u001b[0m\u001b[0mDROPOUT\u001b[0m\u001b[1;33m:\u001b[0m\u001b[1;36m1.\u001b[0m\u001b[1;33m,\u001b[0m\u001b[0mBN_FLAG\u001b[0m\u001b[1;33m:\u001b[0m\u001b[1;32mFalse\u001b[0m\u001b[1;33m,\u001b[0m\u001b[0mLR\u001b[0m\u001b[1;33m:\u001b[0m\u001b[0mlr_\u001b[0m\u001b[1;33m}\u001b[0m\u001b[1;33m\u001b[0m\u001b[0m\n",
      "\u001b[1;32mE:\\Anaconda\\envs\\tfgpu\\lib\\site-packages\\tensorflow\\python\\client\\session.py\u001b[0m in \u001b[0;36mrun\u001b[1;34m(self, fetches, feed_dict, options, run_metadata)\u001b[0m\n\u001b[0;32m    787\u001b[0m     \u001b[1;32mtry\u001b[0m\u001b[1;33m:\u001b[0m\u001b[1;33m\u001b[0m\u001b[0m\n\u001b[0;32m    788\u001b[0m       result = self._run(None, fetches, feed_dict, options_ptr,\n\u001b[1;32m--> 789\u001b[1;33m                          run_metadata_ptr)\n\u001b[0m\u001b[0;32m    790\u001b[0m       \u001b[1;32mif\u001b[0m \u001b[0mrun_metadata\u001b[0m\u001b[1;33m:\u001b[0m\u001b[1;33m\u001b[0m\u001b[0m\n\u001b[0;32m    791\u001b[0m         \u001b[0mproto_data\u001b[0m \u001b[1;33m=\u001b[0m \u001b[0mtf_session\u001b[0m\u001b[1;33m.\u001b[0m\u001b[0mTF_GetBuffer\u001b[0m\u001b[1;33m(\u001b[0m\u001b[0mrun_metadata_ptr\u001b[0m\u001b[1;33m)\u001b[0m\u001b[1;33m\u001b[0m\u001b[0m\n",
      "\u001b[1;32mE:\\Anaconda\\envs\\tfgpu\\lib\\site-packages\\tensorflow\\python\\client\\session.py\u001b[0m in \u001b[0;36m_run\u001b[1;34m(self, handle, fetches, feed_dict, options, run_metadata)\u001b[0m\n\u001b[0;32m    995\u001b[0m     \u001b[1;32mif\u001b[0m \u001b[0mfinal_fetches\u001b[0m \u001b[1;32mor\u001b[0m \u001b[0mfinal_targets\u001b[0m\u001b[1;33m:\u001b[0m\u001b[1;33m\u001b[0m\u001b[0m\n\u001b[0;32m    996\u001b[0m       results = self._do_run(handle, final_targets, final_fetches,\n\u001b[1;32m--> 997\u001b[1;33m                              feed_dict_string, options, run_metadata)\n\u001b[0m\u001b[0;32m    998\u001b[0m     \u001b[1;32melse\u001b[0m\u001b[1;33m:\u001b[0m\u001b[1;33m\u001b[0m\u001b[0m\n\u001b[0;32m    999\u001b[0m       \u001b[0mresults\u001b[0m \u001b[1;33m=\u001b[0m \u001b[1;33m[\u001b[0m\u001b[1;33m]\u001b[0m\u001b[1;33m\u001b[0m\u001b[0m\n",
      "\u001b[1;32mE:\\Anaconda\\envs\\tfgpu\\lib\\site-packages\\tensorflow\\python\\client\\session.py\u001b[0m in \u001b[0;36m_do_run\u001b[1;34m(self, handle, target_list, fetch_list, feed_dict, options, run_metadata)\u001b[0m\n\u001b[0;32m   1130\u001b[0m     \u001b[1;32mif\u001b[0m \u001b[0mhandle\u001b[0m \u001b[1;32mis\u001b[0m \u001b[1;32mNone\u001b[0m\u001b[1;33m:\u001b[0m\u001b[1;33m\u001b[0m\u001b[0m\n\u001b[0;32m   1131\u001b[0m       return self._do_call(_run_fn, self._session, feed_dict, fetch_list,\n\u001b[1;32m-> 1132\u001b[1;33m                            target_list, options, run_metadata)\n\u001b[0m\u001b[0;32m   1133\u001b[0m     \u001b[1;32melse\u001b[0m\u001b[1;33m:\u001b[0m\u001b[1;33m\u001b[0m\u001b[0m\n\u001b[0;32m   1134\u001b[0m       return self._do_call(_prun_fn, self._session, handle, feed_dict,\n",
      "\u001b[1;32mE:\\Anaconda\\envs\\tfgpu\\lib\\site-packages\\tensorflow\\python\\client\\session.py\u001b[0m in \u001b[0;36m_do_call\u001b[1;34m(self, fn, *args)\u001b[0m\n\u001b[0;32m   1137\u001b[0m   \u001b[1;32mdef\u001b[0m \u001b[0m_do_call\u001b[0m\u001b[1;33m(\u001b[0m\u001b[0mself\u001b[0m\u001b[1;33m,\u001b[0m \u001b[0mfn\u001b[0m\u001b[1;33m,\u001b[0m \u001b[1;33m*\u001b[0m\u001b[0margs\u001b[0m\u001b[1;33m)\u001b[0m\u001b[1;33m:\u001b[0m\u001b[1;33m\u001b[0m\u001b[0m\n\u001b[0;32m   1138\u001b[0m     \u001b[1;32mtry\u001b[0m\u001b[1;33m:\u001b[0m\u001b[1;33m\u001b[0m\u001b[0m\n\u001b[1;32m-> 1139\u001b[1;33m       \u001b[1;32mreturn\u001b[0m \u001b[0mfn\u001b[0m\u001b[1;33m(\u001b[0m\u001b[1;33m*\u001b[0m\u001b[0margs\u001b[0m\u001b[1;33m)\u001b[0m\u001b[1;33m\u001b[0m\u001b[0m\n\u001b[0m\u001b[0;32m   1140\u001b[0m     \u001b[1;32mexcept\u001b[0m \u001b[0merrors\u001b[0m\u001b[1;33m.\u001b[0m\u001b[0mOpError\u001b[0m \u001b[1;32mas\u001b[0m \u001b[0me\u001b[0m\u001b[1;33m:\u001b[0m\u001b[1;33m\u001b[0m\u001b[0m\n\u001b[0;32m   1141\u001b[0m       \u001b[0mmessage\u001b[0m \u001b[1;33m=\u001b[0m \u001b[0mcompat\u001b[0m\u001b[1;33m.\u001b[0m\u001b[0mas_text\u001b[0m\u001b[1;33m(\u001b[0m\u001b[0me\u001b[0m\u001b[1;33m.\u001b[0m\u001b[0mmessage\u001b[0m\u001b[1;33m)\u001b[0m\u001b[1;33m\u001b[0m\u001b[0m\n",
      "\u001b[1;32mE:\\Anaconda\\envs\\tfgpu\\lib\\site-packages\\tensorflow\\python\\client\\session.py\u001b[0m in \u001b[0;36m_run_fn\u001b[1;34m(session, feed_dict, fetch_list, target_list, options, run_metadata)\u001b[0m\n\u001b[0;32m   1119\u001b[0m         return tf_session.TF_Run(session, options,\n\u001b[0;32m   1120\u001b[0m                                  \u001b[0mfeed_dict\u001b[0m\u001b[1;33m,\u001b[0m \u001b[0mfetch_list\u001b[0m\u001b[1;33m,\u001b[0m \u001b[0mtarget_list\u001b[0m\u001b[1;33m,\u001b[0m\u001b[1;33m\u001b[0m\u001b[0m\n\u001b[1;32m-> 1121\u001b[1;33m                                  status, run_metadata)\n\u001b[0m\u001b[0;32m   1122\u001b[0m \u001b[1;33m\u001b[0m\u001b[0m\n\u001b[0;32m   1123\u001b[0m     \u001b[1;32mdef\u001b[0m \u001b[0m_prun_fn\u001b[0m\u001b[1;33m(\u001b[0m\u001b[0msession\u001b[0m\u001b[1;33m,\u001b[0m \u001b[0mhandle\u001b[0m\u001b[1;33m,\u001b[0m \u001b[0mfeed_dict\u001b[0m\u001b[1;33m,\u001b[0m \u001b[0mfetch_list\u001b[0m\u001b[1;33m)\u001b[0m\u001b[1;33m:\u001b[0m\u001b[1;33m\u001b[0m\u001b[0m\n",
      "\u001b[1;31mKeyboardInterrupt\u001b[0m: "
     ]
    }
   ],
   "source": [
    "# 150 loop/min\n",
    "lr_=1e-3\n",
    "batch_size=104\n",
    "for i in range(1000*5000):\n",
    "    mask=np.random.choice(tr_data.shape[0],batch_size,replace=False)\n",
    "    x_,y_=tr_data[mask],tr_label[mask]\n",
    "    feed_dict={X:x_,Y:y_,DROPOUT:0.5,BN_FLAG:True,LR:lr_}\n",
    "    sess.run([TRAIN,ex_ops],feed_dict=feed_dict)\n",
    "    if i%10==0:\n",
    "        feed_dict={X:x_,Y:y_,DROPOUT:1.,BN_FLAG:False,LR:lr_}\n",
    "        loss_,acc_,m_=sess.run([LOSS,ACCURACY,merge],feed_dict=feed_dict)\n",
    "        writer_tr.add_summary(m_,i)\n",
    "        print('train epoch:{},loss:{},accuracy:{}'.format(i,loss_,acc_))\n",
    "    if i%20==0:\n",
    "        mask=np.random.choice(te_data.shape[0],batch_size,replace=False)\n",
    "        x_,y_=te_data[mask],te_label[mask]\n",
    "        feed_dict={X:x_,Y:y_,DROPOUT:1.,BN_FLAG:False,LR:lr_}\n",
    "        loss_,acc_,m_=sess.run([LOSS,ACCURACY,merge],feed_dict=feed_dict)\n",
    "        writer_te.add_summary(m_,i)\n",
    "        print('--test epoch:{},loss:{},accuracy:{}'.format(i,loss_,acc_))\n",
    "    if i%30==0:\n",
    "        mask=np.random.choice(val_data.shape[0],batch_size,replace=False)\n",
    "        x_,y_=val_data[mask],val_label[mask]\n",
    "        feed_dict={X:x_,Y:y_,DROPOUT:1.,BN_FLAG:False,LR:lr_}\n",
    "        loss_,acc_,m_=sess.run([LOSS,ACCURACY,merge],feed_dict=feed_dict)\n",
    "        writer_val.add_summary(m_,i)\n",
    "        print('@@val epoch:{},loss:{},accuracy:{}'.format(i,loss_,acc_))\n",
    "    if i%400==0:\n",
    "        lr_=max(lr_*0.5,1e-5)\n",
    "        print('$$$ lr change:{}'.format(lr_))"
   ]
  },
  {
   "cell_type": "code",
   "execution_count": 6,
   "metadata": {},
   "outputs": [
    {
     "name": "stdout",
     "output_type": "stream",
     "text": [
      "Total training params: 4.25715 Million,16.23975 Mb\n"
     ]
    }
   ],
   "source": [
    "def count_trainable_params():\n",
    "    total_parameters = 0\n",
    "    for variable in tf.trainable_variables():\n",
    "        shape = variable.get_shape()\n",
    "        variable_parametes = 1\n",
    "        for dim in shape:\n",
    "            variable_parametes *= dim.value\n",
    "        total_parameters += variable_parametes\n",
    "    print(\"Total training params: %.5f Million,%.5f Mb\" % (total_parameters / 1e6,total_parameters* 4/ (1024*1024)))\n",
    "count_trainable_params()"
   ]
  },
  {
   "cell_type": "markdown",
   "metadata": {},
   "source": [
    "#### 提取所有可训练参数，并保存"
   ]
  },
  {
   "cell_type": "code",
   "execution_count": null,
   "metadata": {
    "collapsed": true,
    "scrolled": true
   },
   "outputs": [],
   "source": [
    "filename='test_cumt.pkl'\n",
    "all_var_name=list(tf.trainable_variables())\n",
    "weight_dict={}\n",
    "#提取变量值\n",
    "for name_ in all_var_name:\n",
    "    #变量名称\n",
    "    layer_name=str(name_).split(\"'\")[1][:-2]\n",
    "    #print(layer_name)\n",
    "    with tf.variable_scope('',reuse=True):\n",
    "        var=tf.get_variable(layer_name)\n",
    "        #注意var是tensor，需要转换一下\n",
    "        weight_dict[layer_name]=sess.run(var)\n",
    "#保存到pkl文件中\n",
    "fp=open(filename,'wb')\n",
    "pickle.dump(obj=weight_dict,file=fp)\n",
    "fp.close()\n",
    "print('save weight file done!')"
   ]
  },
  {
   "cell_type": "markdown",
   "metadata": {},
   "source": [
    "#### 加载保存的网络参数"
   ]
  },
  {
   "cell_type": "code",
   "execution_count": null,
   "metadata": {
    "collapsed": true
   },
   "outputs": [],
   "source": [
    "weight_addr='test_cumt.pkl'\n",
    "skip_layer=[]\n",
    "network_dict=np.load(weight_addr)\n",
    "layer_name=list(network_dict.keys())\n",
    "for name_ in layer_name:\n",
    "    if name_ in skip_layer:\n",
    "        print('skip layer:{}'.format(name_))\n",
    "        continue\n",
    "    with tf.variable_scope('',reuse=True):\n",
    "        var=tf.get_variable(name_)\n",
    "        sess.run(var.assign(network_dict[name_]))\n",
    "print('network init done!')"
   ]
  },
  {
   "cell_type": "markdown",
   "metadata": {},
   "source": [
    "#### 计算所有可训练变量数"
   ]
  },
  {
   "cell_type": "code",
   "execution_count": null,
   "metadata": {
    "collapsed": true
   },
   "outputs": [],
   "source": [
    "\n",
    "sum_=0\n",
    "for s in list(tf.trainable_variables()):\n",
    "    s=str(s)\n",
    "    shape_=s[s.index('(')+1:s.index(')')].split(',')\n",
    "    s_=1\n",
    "    #print(shape_)\n",
    "    for i in shape_:\n",
    "        if i =='':continue\n",
    "        #print(i)\n",
    "        s_*=int(i)\n",
    "    sum_+=s_\n",
    "print('trainable variables nums:{},{}Mb'.format(sum_,sum_*4/(1024*1024)))"
   ]
  },
  {
   "cell_type": "code",
   "execution_count": null,
   "metadata": {
    "collapsed": true
   },
   "outputs": [],
   "source": [
    "#保存模型\n",
    "saver=tf.train.Saver()\n",
    "saver.save(sess,'./model_save/model.ckpt',global_step=1000)"
   ]
  },
  {
   "cell_type": "code",
   "execution_count": null,
   "metadata": {
    "collapsed": true
   },
   "outputs": [],
   "source": [
    "'''\n",
    "在视频中插入判别网络\n",
    "'''"
   ]
  },
  {
   "cell_type": "code",
   "execution_count": null,
   "metadata": {
    "collapsed": true
   },
   "outputs": [],
   "source": [
    "prob=tf.nn.softmax(y_score,name='prob')\n",
    "y_guess=tf.arg_max(prob,1)+1\n",
    "\n",
    "#预测方向到九宫格方向,\n",
    "pre2block={2:3,3:2,4:1,\n",
    "           5:6,6:5,7:4,\n",
    "           8:9,9:8,10:7}\n",
    "#校正时需要保存图像均值\n",
    "VGG_MEAN =mean_pic"
   ]
  },
  {
   "cell_type": "code",
   "execution_count": null,
   "metadata": {
    "collapsed": true
   },
   "outputs": [],
   "source": [
    "#BGR\n",
    "#VGG_MEAN = [103.939, 116.779, 123.68]\n"
   ]
  },
  {
   "cell_type": "code",
   "execution_count": null,
   "metadata": {
    "collapsed": true,
    "scrolled": true
   },
   "outputs": [],
   "source": [
    "cap = cv2.VideoCapture(r'test_video/101603.mp4')\n",
    "fps=cap.get(cv2.CAP_PROP_FPS)\n",
    "fsize=(\n",
    "    int(cap.get(cv2.CAP_PROP_FRAME_WIDTH)),\n",
    "    int(cap.get(cv2.CAP_PROP_FRAME_HEIGHT))\n",
    "      )\n",
    "# save video\n",
    "video_saver=cv2.VideoWriter('demo_1041.flv',cv2.VideoWriter_fourcc('F','L','V','1'),50,fsize)\n",
    "while (True):\n",
    "    ret,frame = cap.read()\n",
    "    \n",
    "    if ret==True:\n",
    "        #截取眼部图片\n",
    "#         frame=np.transpose(frame,[1,0,2])\n",
    "#         frame=frame[::-1,:,:]\n",
    "#         eye_img=None\n",
    "        #frame=frame[:,::-1,:]\n",
    "        eye_img=UI.drew_face_eye(frame)\n",
    "        if eye_img is None:\n",
    "            #没有检测到眼睛，跳到下一帧\n",
    "            cv2.imshow('frame',frame)\n",
    "            video_saver.write(frame)\n",
    "            if cv2.waitKey(10)& 0xff ==ord('q'):\n",
    "                print('quite')\n",
    "                break\n",
    "            continue\n",
    "        # BGR -> RGB\n",
    "        eye_img=eye_img[:,:,::-1]\n",
    "        e1=imresize(eye_img,(32,128,3)).astype('float32')-VGG_MEAN\n",
    "        \n",
    "        x_=e1.reshape((1,32,128,3))\n",
    "        pre_asw=sess.run(y_guess,feed_dict={X:x_,DROPOUT:1.,BN_FLAG:False})[0]\n",
    "        #给图片划线，划框\n",
    "        print(pre_asw)\n",
    "        frame=UI.drawline(frame,line_w=1)\n",
    "        if pre_asw != 1:\n",
    "            #有检测结果\n",
    "            \n",
    "            frame=UI.drawblock(frame,pre2block[pre_asw])\n",
    "            #cv2.waitKey()\n",
    "        #cv2.imshow('frame',x_.reshape((32,128,3)))\n",
    "        cv2.imshow('frame',frame)\n",
    "        video_saver.write(frame)\n",
    "        if cv2.waitKey(10)& 0xff ==ord('q'):\n",
    "            print('quite')\n",
    "            break\n",
    "    else:\n",
    "        print('video end')\n",
    "        break\n",
    "cap.release()\n",
    "video_saver.release()\n",
    "cv2.destroyAllWindows()"
   ]
  },
  {
   "cell_type": "code",
   "execution_count": null,
   "metadata": {
    "collapsed": true
   },
   "outputs": [],
   "source": [
    "/**************************************************************************/\n",
    "'''\n",
    "用固定的眼部识别参数截取眼部图片\n",
    "标注，保存\n",
    "'''"
   ]
  },
  {
   "cell_type": "code",
   "execution_count": null,
   "metadata": {
    "collapsed": true
   },
   "outputs": [],
   "source": [
    "import cv2\n",
    "import UI\n",
    "import matplotlib.pyplot as plt\n",
    "import os\n",
    "import numpy as np\n",
    "from scipy.misc import imread\n",
    "from scipy.misc import imresize\n",
    "\n",
    "#自然方向 -> 论文方向\n",
    "key_map={\n",
    "         1:'10',2:'9',3:'8',\n",
    "         4:'7',5:'6',6:'5',\n",
    "         7:'4',8:'3',9:'2',\n",
    "         0:'1'\n",
    "        }"
   ]
  },
  {
   "cell_type": "code",
   "execution_count": null,
   "metadata": {
    "collapsed": true
   },
   "outputs": [],
   "source": [
    "#改\n",
    "cap = cv2.VideoCapture(r'test_video/101603.mp4')\n",
    "i_counter=0\n",
    "while (True):\n",
    "    i_counter+=1\n",
    "    ret,frame = cap.read()\n",
    "    if ret==True:\n",
    "        #截取眼部图片\n",
    "        eye_img=UI.drew_face_eye(frame)\n",
    "        if eye_img is not None:\n",
    "            cv2.imshow('frame',eye_img)\n",
    "            a=(cv2.waitKey())-48\n",
    "            cv2.destroyWindow('frame')\n",
    "            \n",
    "            # Esc 退出，'.'表示放弃这张图\n",
    "            if a==(-21):\n",
    "                break\n",
    "            elif a!=-2:\n",
    "                resize_img=imresize(eye_img,(32,128,3)).astype('uint8')\n",
    "                cv2.imwrite('./test_video/101603'+str(i_counter)+'_'+key_map[a]+'.jpg',resize_img)\n",
    "    else:\n",
    "        print('video end')\n",
    "        break\n",
    "cap.release()\n",
    "cv2.destroyAllWindows()"
   ]
  },
  {
   "cell_type": "code",
   "execution_count": null,
   "metadata": {
    "collapsed": true
   },
   "outputs": [],
   "source": [
    "img_root='./test_video/101603'\n",
    "lis=os.listdir(img_root)\n",
    "img_arr,lab_arr=[],[]\n",
    "for addr in lis:\n",
    "    #标签\n",
    "    lable_=[0]*10\n",
    "    if addr[-5]==0:\n",
    "        n=10\n",
    "    else:\n",
    "        n=int(addr[-5])\n",
    "    lable_[n-1]=1\n",
    "    lab_arr.append(lable_)\n",
    "    #图像\n",
    "    img_=imread(os.path.join(img_root,addr))\n",
    "    #img_=imresize(img_,(32,128,3)).astype('uint8')\n",
    "    img_arr.append(img_)\n",
    "img_mat=np.array(img_arr)\n",
    "lab_mat=np.array(lab_arr)"
   ]
  },
  {
   "cell_type": "code",
   "execution_count": null,
   "metadata": {
    "collapsed": true
   },
   "outputs": [],
   "source": [
    "img_mat.shape"
   ]
  },
  {
   "cell_type": "code",
   "execution_count": null,
   "metadata": {
    "collapsed": true
   },
   "outputs": [],
   "source": [
    "import pickle\n",
    "fp=open('./test_video/101603/101603_z.pkl','wb')\n",
    "pickle.dump(file=fp,obj={'images':img_mat,'labels':lab_mat})\n",
    "fp.close()"
   ]
  },
  {
   "cell_type": "code",
   "execution_count": null,
   "metadata": {
    "collapsed": true
   },
   "outputs": [],
   "source": []
  }
 ],
 "metadata": {
  "kernelspec": {
   "display_name": "Python 3",
   "language": "python",
   "name": "python3"
  },
  "language_info": {
   "codemirror_mode": {
    "name": "ipython",
    "version": 3
   },
   "file_extension": ".py",
   "mimetype": "text/x-python",
   "name": "python",
   "nbconvert_exporter": "python",
   "pygments_lexer": "ipython3",
   "version": "3.5.0"
  }
 },
 "nbformat": 4,
 "nbformat_minor": 2
}
