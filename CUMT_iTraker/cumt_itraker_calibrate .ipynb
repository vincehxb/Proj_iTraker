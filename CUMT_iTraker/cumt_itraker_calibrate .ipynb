{
 "cells": [
  {
   "cell_type": "markdown",
   "metadata": {},
   "source": [
    "# 2017年11月13日17:20:39\n",
    "# 训练CUMT论文提出的结构"
   ]
  },
  {
   "cell_type": "code",
   "execution_count": 1,
   "metadata": {},
   "outputs": [
    {
     "name": "stdout",
     "output_type": "stream",
     "text": [
      "Cumt_itraker Init Ready!\n"
     ]
    }
   ],
   "source": [
    "import tensorflow as tf\n",
    "import numpy as np\n",
    "from cumt_eye import Cumt_itraker\n",
    "import matplotlib.pyplot as plt\n",
    "import os\n",
    "from scipy.misc import imread\n",
    "from scipy.misc import imresize\n",
    "import UI\n",
    "import cv2\n",
    "import pickle\n",
    "sess=tf.InteractiveSession()\n",
    "cumt_data=np.load(r'D:\\Proj_DL\\Code\\Proj_EyeTraker\\cumt_data.pkl')\n",
    "log_name=r'cumtdata256/cumt_ori'\n",
    "\n",
    "X=tf.placeholder(shape=[None,32,128,3],dtype=tf.float32)\n",
    "Y=tf.placeholder(shape=[None,10],dtype=tf.float32)\n",
    "DROPOUT=tf.placeholder(dtype=tf.float32)\n",
    "LR=tf.placeholder(dtype=tf.float32)\n",
    "BN_FLAG=tf.placeholder(dtype=tf.bool)\n",
    "\n",
    "with tf.name_scope('model'):\n",
    "    model=Cumt_itraker(image=X,bn_flag=BN_FLAG,dropout_rate=DROPOUT)\n",
    "    y_score=model.score\n",
    "\n",
    "with tf.name_scope('LOSS'):\n",
    "    LOSS=tf.reduce_mean(tf.nn.softmax_cross_entropy_with_logits(logits=y_score,labels=Y))\n",
    "    tf.summary.scalar('loss',LOSS)\n",
    "with tf.name_scope('TRAIN'):\n",
    "    TRAIN=tf.train.AdamOptimizer(LR).minimize(LOSS)\n",
    "with tf.name_scope('ACCURACY'):\n",
    "    acc_count=tf.equal(tf.arg_max(y_score,1),tf.arg_max(Y,1))\n",
    "    ACCURACY=tf.reduce_mean(tf.cast(acc_count,tf.float32))\n",
    "    tf.summary.scalar('acc',ACCURACY)\n",
    "\n",
    "writer_tr=tf.summary.FileWriter(r'./mylog/'+log_name+r'/train',)\n",
    "writer_te=tf.summary.FileWriter(r'./mylog/'+log_name+r'/test',)\n",
    "writer_val=tf.summary.FileWriter(r'./mylog/'+log_name+r'/val',)\n",
    "merge=tf.summary.merge_all()\n",
    "ex_ops=tf.get_collection(tf.GraphKeys.UPDATE_OPS)\n",
    "\n"
   ]
  },
  {
   "cell_type": "code",
   "execution_count": 2,
   "metadata": {
    "collapsed": true
   },
   "outputs": [],
   "source": [
    "#初始化变量，需要重新训练才运行\n",
    "init=tf.global_variables_initializer()\n",
    "sess.run(init)"
   ]
  },
  {
   "cell_type": "code",
   "execution_count": null,
   "metadata": {
    "collapsed": true
   },
   "outputs": [],
   "source": [
    "#从保存的检查点钟复原变量，加载原数据训练好的模型\n",
    "saver=tf.train.Saver()\n",
    "saver.restore(sess,r'D:\\Proj_DL\\Code\\Proj_EyeTraker\\model_save\\model_71.ckpt-64600')\n"
   ]
  },
  {
   "cell_type": "code",
   "execution_count": 3,
   "metadata": {},
   "outputs": [
    {
     "name": "stdout",
     "output_type": "stream",
     "text": [
      "(966, 32, 128, 3) (966, 10)\n"
     ]
    }
   ],
   "source": [
    "cumt_picmean=[103.939, 116.779, 123.68]\n",
    "d=np.load('valimg1k_1109.pkl')\n",
    "val={}\n",
    "val_data=d['data'].astype('float32')-cumt_picmean\n",
    "val_label=d['label']\n",
    "del d\n",
    "print(val_data.shape,val_label.shape)\n"
   ]
  },
  {
   "cell_type": "code",
   "execution_count": 4,
   "metadata": {},
   "outputs": [
    {
     "name": "stdout",
     "output_type": "stream",
     "text": [
      "(256, 32, 128, 3) (74573, 32, 128, 3)\n"
     ]
    }
   ],
   "source": [
    "data=cumt_data['data']\n",
    "label=cumt_data['labels']\n",
    "index=np.arange(data.shape[0])\n",
    "np.random.shuffle(index)\n",
    "# tr_index=index[:int(data.shape[0]*0.9)]\n",
    "# te_index=index[int(data.shape[0]*0.9):]\n",
    "tr_index=index[:256]\n",
    "te_index=index[256:]\n",
    "tr_data,tr_label=data[tr_index],label[tr_index]\n",
    "te_data,te_label=data[te_index],label[te_index]\n",
    "del data\n",
    "del label\n",
    "del cumt_data\n",
    "print(tr_data.shape,te_data.shape)\n"
   ]
  },
  {
   "cell_type": "code",
   "execution_count": null,
   "metadata": {
    "collapsed": true
   },
   "outputs": [],
   "source": []
  },
  {
   "cell_type": "code",
   "execution_count": 6,
   "metadata": {},
   "outputs": [
    {
     "name": "stdout",
     "output_type": "stream",
     "text": [
      "19.3 ms ± 10.3 ms per loop (mean ± std. dev. of 7 runs, 1 loop each)\n"
     ]
    }
   ],
   "source": [
    "%%timeit\n",
    "mask=np.random.choice(te_data.shape[0],1,replace=False)\n",
    "x_,y_=te_data[mask],te_label[mask]\n",
    "feed_dict={X:x_,Y:y_,DROPOUT:1.,BN_FLAG:False}\n",
    "sess.run(y_score,feed_dict=feed_dict)"
   ]
  },
  {
   "cell_type": "code",
   "execution_count": 5,
   "metadata": {
    "scrolled": true
   },
   "outputs": [
    {
     "name": "stdout",
     "output_type": "stream",
     "text": [
      "train epoch:10,loss:43.91220,accuracy:0.15385\n",
      "train epoch:20,loss:12.58156,accuracy:0.23077\n",
      "--test epoch:20,loss:14.77892,accuracy:0.10156,mean acc:0.10156\n",
      "train epoch:30,loss:8.47065,accuracy:0.21154\n",
      "@@val epoch:30,loss:9.92523,accuracy:0.07031\n",
      "train epoch:40,loss:6.88839,accuracy:0.23077\n",
      "--test epoch:40,loss:8.86342,accuracy:0.13281,mean acc:0.11719\n",
      "train epoch:50,loss:7.23467,accuracy:0.22115\n",
      "train epoch:60,loss:6.57110,accuracy:0.25000\n",
      "--test epoch:60,loss:8.10667,accuracy:0.19531,mean acc:0.14323\n",
      "@@val epoch:60,loss:4.81978,accuracy:0.13281\n",
      "train epoch:70,loss:4.74538,accuracy:0.31731\n",
      "train epoch:80,loss:5.58902,accuracy:0.29808\n",
      "--test epoch:80,loss:6.90737,accuracy:0.19531,mean acc:0.15625\n",
      "train epoch:90,loss:3.73674,accuracy:0.27885\n",
      "@@val epoch:90,loss:2.94202,accuracy:0.13281\n",
      "train epoch:100,loss:2.73220,accuracy:0.33654\n",
      "--test epoch:100,loss:3.87830,accuracy:0.19531,mean acc:0.16406\n",
      "train epoch:110,loss:2.00008,accuracy:0.42308\n",
      "train epoch:120,loss:1.06665,accuracy:0.61538\n",
      "--test epoch:120,loss:2.58804,accuracy:0.23438,mean acc:0.17578\n",
      "@@val epoch:120,loss:1.60362,accuracy:0.39062\n",
      "train epoch:130,loss:1.00887,accuracy:0.68269\n",
      "train epoch:140,loss:0.74325,accuracy:0.75000\n",
      "--test epoch:140,loss:2.38928,accuracy:0.29688,mean acc:0.19308\n",
      "train epoch:150,loss:0.83451,accuracy:0.70192\n",
      "@@val epoch:150,loss:2.08737,accuracy:0.18750\n",
      "train epoch:160,loss:0.37148,accuracy:0.85577\n",
      "--test epoch:160,loss:2.05529,accuracy:0.35938,mean acc:0.21387\n",
      "train epoch:170,loss:0.36232,accuracy:0.91346\n",
      "train epoch:180,loss:0.24179,accuracy:0.95192\n",
      "--test epoch:180,loss:2.14699,accuracy:0.33594,mean acc:0.22743\n",
      "@@val epoch:180,loss:1.96382,accuracy:0.31250\n",
      "train epoch:190,loss:0.24097,accuracy:0.95192\n",
      "train epoch:200,loss:0.20115,accuracy:0.95192\n",
      "--test epoch:200,loss:2.42636,accuracy:0.36719,mean acc:0.24141\n",
      "train epoch:210,loss:0.14182,accuracy:0.98077\n",
      "@@val epoch:210,loss:2.59504,accuracy:0.38281\n",
      "train epoch:220,loss:0.07721,accuracy:0.99038\n",
      "--test epoch:220,loss:1.99173,accuracy:0.42188,mean acc:0.27344\n",
      "train epoch:230,loss:0.12480,accuracy:0.99038\n",
      "train epoch:240,loss:0.09826,accuracy:0.97115\n",
      "--test epoch:240,loss:2.33329,accuracy:0.35156,mean acc:0.29531\n",
      "@@val epoch:240,loss:2.66764,accuracy:0.39062\n",
      "train epoch:250,loss:0.09904,accuracy:0.97115\n",
      "train epoch:260,loss:0.03974,accuracy:1.00000\n",
      "--test epoch:260,loss:2.31932,accuracy:0.38281,mean acc:0.31406\n",
      "train epoch:270,loss:0.01943,accuracy:0.99038\n",
      "@@val epoch:270,loss:2.58553,accuracy:0.38281\n",
      "train epoch:280,loss:0.01950,accuracy:1.00000\n",
      "--test epoch:280,loss:2.28434,accuracy:0.44531,mean acc:0.33906\n",
      "train epoch:290,loss:0.02944,accuracy:1.00000\n",
      "train epoch:300,loss:0.03015,accuracy:1.00000\n",
      "--test epoch:300,loss:2.28670,accuracy:0.39844,mean acc:0.35938\n",
      "@@val epoch:300,loss:2.78584,accuracy:0.42969\n",
      "train epoch:310,loss:0.01558,accuracy:1.00000\n",
      "train epoch:320,loss:0.01717,accuracy:1.00000\n",
      "--test epoch:320,loss:2.34781,accuracy:0.48438,mean acc:0.38438\n",
      "train epoch:330,loss:0.01105,accuracy:1.00000\n",
      "@@val epoch:330,loss:2.40624,accuracy:0.49219\n",
      "train epoch:340,loss:0.01320,accuracy:1.00000\n",
      "--test epoch:340,loss:3.07696,accuracy:0.36719,mean acc:0.39141\n",
      "train epoch:350,loss:0.02901,accuracy:0.99038\n",
      "train epoch:360,loss:0.02039,accuracy:1.00000\n",
      "--test epoch:360,loss:1.87602,accuracy:0.53125,mean acc:0.40859\n",
      "@@val epoch:360,loss:3.35818,accuracy:0.39062\n",
      "train epoch:370,loss:0.00230,accuracy:1.00000\n",
      "train epoch:380,loss:0.01086,accuracy:1.00000\n",
      "--test epoch:380,loss:2.85304,accuracy:0.39062,mean acc:0.41406\n",
      "train epoch:390,loss:0.03336,accuracy:0.98077\n",
      "@@val epoch:390,loss:3.59193,accuracy:0.32031\n",
      "train epoch:400,loss:0.00210,accuracy:1.00000\n",
      "--test epoch:400,loss:2.36084,accuracy:0.50781,mean acc:0.42812\n",
      "$$$ lr change:0.0005\n",
      "train epoch:410,loss:0.00250,accuracy:1.00000\n",
      "train epoch:420,loss:0.02897,accuracy:0.99038\n",
      "--test epoch:420,loss:2.70501,accuracy:0.42969,mean acc:0.42891\n",
      "@@val epoch:420,loss:4.33673,accuracy:0.36719\n",
      "train epoch:430,loss:0.00452,accuracy:1.00000\n",
      "train epoch:440,loss:0.00115,accuracy:1.00000\n",
      "--test epoch:440,loss:2.82918,accuracy:0.42188,mean acc:0.43594\n",
      "train epoch:450,loss:0.00431,accuracy:1.00000\n",
      "@@val epoch:450,loss:4.11390,accuracy:0.27344\n",
      "train epoch:460,loss:0.00053,accuracy:1.00000\n",
      "--test epoch:460,loss:2.76939,accuracy:0.46875,mean acc:0.44453\n",
      "train epoch:470,loss:0.00063,accuracy:1.00000\n",
      "train epoch:480,loss:0.00139,accuracy:1.00000\n",
      "--test epoch:480,loss:3.00586,accuracy:0.43750,mean acc:0.44375\n",
      "@@val epoch:480,loss:4.16442,accuracy:0.33594\n",
      "train epoch:490,loss:0.00117,accuracy:1.00000\n",
      "train epoch:500,loss:0.00242,accuracy:1.00000\n",
      "--test epoch:500,loss:2.28250,accuracy:0.51562,mean acc:0.45547\n",
      "train epoch:510,loss:0.00061,accuracy:1.00000\n",
      "@@val epoch:510,loss:4.56780,accuracy:0.26562\n",
      "train epoch:520,loss:0.00063,accuracy:1.00000\n",
      "--test epoch:520,loss:3.25422,accuracy:0.35938,mean acc:0.44297\n",
      "train epoch:530,loss:0.00033,accuracy:1.00000\n",
      "train epoch:540,loss:0.00021,accuracy:1.00000\n",
      "--test epoch:540,loss:2.69311,accuracy:0.45312,mean acc:0.45156\n",
      "@@val epoch:540,loss:3.79099,accuracy:0.38281\n",
      "train epoch:550,loss:0.00052,accuracy:1.00000\n",
      "train epoch:560,loss:0.00022,accuracy:1.00000\n",
      "--test epoch:560,loss:2.75588,accuracy:0.44531,mean acc:0.44297\n",
      "train epoch:570,loss:0.00019,accuracy:1.00000\n",
      "@@val epoch:570,loss:4.22534,accuracy:0.35938\n",
      "train epoch:580,loss:0.00048,accuracy:1.00000\n",
      "--test epoch:580,loss:2.45442,accuracy:0.48438,mean acc:0.45234\n",
      "train epoch:590,loss:0.00085,accuracy:1.00000\n",
      "train epoch:600,loss:0.00030,accuracy:1.00000\n",
      "--test epoch:600,loss:3.18993,accuracy:0.42969,mean acc:0.44453\n",
      "@@val epoch:600,loss:3.89991,accuracy:0.34375\n",
      "train epoch:610,loss:0.00022,accuracy:1.00000\n",
      "train epoch:620,loss:0.00031,accuracy:1.00000\n",
      "--test epoch:620,loss:2.84512,accuracy:0.48438,mean acc:0.45000\n",
      "train epoch:630,loss:0.00026,accuracy:1.00000\n",
      "@@val epoch:630,loss:3.24447,accuracy:0.43750\n",
      "train epoch:640,loss:0.00097,accuracy:1.00000\n",
      "--test epoch:640,loss:2.89104,accuracy:0.45312,mean acc:0.45312\n",
      "train epoch:650,loss:0.00060,accuracy:1.00000\n",
      "train epoch:660,loss:0.00055,accuracy:1.00000\n",
      "--test epoch:660,loss:2.85042,accuracy:0.48438,mean acc:0.45469\n",
      "@@val epoch:660,loss:4.04167,accuracy:0.28906\n",
      "train epoch:670,loss:0.00014,accuracy:1.00000\n",
      "train epoch:680,loss:0.00016,accuracy:1.00000\n",
      "--test epoch:680,loss:2.74676,accuracy:0.42188,mean acc:0.45312\n",
      "train epoch:690,loss:0.00025,accuracy:1.00000\n",
      "@@val epoch:690,loss:3.51927,accuracy:0.35156\n",
      "train epoch:700,loss:0.00254,accuracy:1.00000\n",
      "--test epoch:700,loss:2.84579,accuracy:0.47656,mean acc:0.44922\n",
      "train epoch:710,loss:0.00025,accuracy:1.00000\n",
      "train epoch:720,loss:0.00011,accuracy:1.00000\n",
      "--test epoch:720,loss:2.40911,accuracy:0.53125,mean acc:0.46641\n",
      "@@val epoch:720,loss:3.78466,accuracy:0.34375\n",
      "train epoch:730,loss:0.00012,accuracy:1.00000\n",
      "train epoch:740,loss:0.00017,accuracy:1.00000\n",
      "--test epoch:740,loss:2.61401,accuracy:0.55469,mean acc:0.47656\n",
      "train epoch:750,loss:0.00200,accuracy:1.00000\n",
      "@@val epoch:750,loss:3.75938,accuracy:0.45312\n",
      "train epoch:760,loss:0.00084,accuracy:1.00000\n",
      "--test epoch:760,loss:2.60017,accuracy:0.46094,mean acc:0.47813\n",
      "train epoch:770,loss:0.00034,accuracy:1.00000\n",
      "train epoch:780,loss:0.00016,accuracy:1.00000\n",
      "--test epoch:780,loss:2.61937,accuracy:0.50000,mean acc:0.47969\n",
      "@@val epoch:780,loss:2.44481,accuracy:0.52344\n",
      "train epoch:790,loss:0.00017,accuracy:1.00000\n",
      "train epoch:800,loss:0.00013,accuracy:1.00000\n",
      "--test epoch:800,loss:2.89384,accuracy:0.48438,mean acc:0.48516\n",
      "$$$ lr change:0.00025\n",
      "train epoch:810,loss:0.00005,accuracy:1.00000\n",
      "@@val epoch:810,loss:3.30238,accuracy:0.50000\n",
      "train epoch:820,loss:0.00008,accuracy:1.00000\n",
      "--test epoch:820,loss:2.75218,accuracy:0.49219,mean acc:0.48594\n",
      "train epoch:830,loss:0.00008,accuracy:1.00000\n",
      "train epoch:840,loss:0.00005,accuracy:1.00000\n",
      "--test epoch:840,loss:2.90243,accuracy:0.50000,mean acc:0.49062\n",
      "@@val epoch:840,loss:3.34535,accuracy:0.39844\n",
      "train epoch:850,loss:0.00008,accuracy:1.00000\n",
      "train epoch:860,loss:0.00003,accuracy:1.00000\n",
      "--test epoch:860,loss:3.35009,accuracy:0.46875,mean acc:0.48906\n",
      "train epoch:870,loss:0.00008,accuracy:1.00000\n",
      "@@val epoch:870,loss:4.39540,accuracy:0.28125\n",
      "train epoch:880,loss:0.00004,accuracy:1.00000\n",
      "--test epoch:880,loss:2.90460,accuracy:0.46094,mean acc:0.49297\n"
     ]
    },
    {
     "name": "stdout",
     "output_type": "stream",
     "text": [
      "train epoch:890,loss:0.00004,accuracy:1.00000\n",
      "train epoch:900,loss:0.00004,accuracy:1.00000\n",
      "--test epoch:900,loss:3.53266,accuracy:0.45312,mean acc:0.49062\n",
      "@@val epoch:900,loss:3.43525,accuracy:0.38281\n",
      "train epoch:910,loss:0.00004,accuracy:1.00000\n",
      "train epoch:920,loss:0.00001,accuracy:1.00000\n",
      "--test epoch:920,loss:2.73445,accuracy:0.47656,mean acc:0.48516\n",
      "train epoch:930,loss:0.00002,accuracy:1.00000\n",
      "@@val epoch:930,loss:4.13096,accuracy:0.35938\n",
      "train epoch:940,loss:0.00002,accuracy:1.00000\n",
      "--test epoch:940,loss:2.70606,accuracy:0.56250,mean acc:0.48594\n",
      "train epoch:950,loss:0.00003,accuracy:1.00000\n",
      "train epoch:960,loss:0.00002,accuracy:1.00000\n",
      "--test epoch:960,loss:3.85908,accuracy:0.36719,mean acc:0.47656\n",
      "@@val epoch:960,loss:4.73398,accuracy:0.33594\n",
      "train epoch:970,loss:0.00004,accuracy:1.00000\n",
      "train epoch:980,loss:0.00004,accuracy:1.00000\n",
      "--test epoch:980,loss:2.84375,accuracy:0.45312,mean acc:0.47188\n",
      "train epoch:990,loss:0.00003,accuracy:1.00000\n",
      "@@val epoch:990,loss:3.47362,accuracy:0.44531\n",
      "train epoch:1000,loss:0.00004,accuracy:1.00000\n",
      "--test epoch:1000,loss:3.12903,accuracy:0.50781,mean acc:0.47422\n",
      "train epoch:1010,loss:0.00003,accuracy:1.00000\n",
      "train epoch:1020,loss:0.00003,accuracy:1.00000\n",
      "--test epoch:1020,loss:2.47174,accuracy:0.53125,mean acc:0.47813\n",
      "@@val epoch:1020,loss:5.04957,accuracy:0.32031\n"
     ]
    },
    {
     "ename": "KeyboardInterrupt",
     "evalue": "",
     "output_type": "error",
     "traceback": [
      "\u001b[1;31m---------------------------------------------------------------------------\u001b[0m",
      "\u001b[1;31mKeyboardInterrupt\u001b[0m                         Traceback (most recent call last)",
      "\u001b[1;32m<ipython-input-5-dfac027b8fcb>\u001b[0m in \u001b[0;36m<module>\u001b[1;34m()\u001b[0m\n\u001b[0;32m      7\u001b[0m     \u001b[0mx_\u001b[0m\u001b[1;33m,\u001b[0m\u001b[0my_\u001b[0m\u001b[1;33m=\u001b[0m\u001b[0mtr_data\u001b[0m\u001b[1;33m[\u001b[0m\u001b[0mmask\u001b[0m\u001b[1;33m]\u001b[0m\u001b[1;33m,\u001b[0m\u001b[0mtr_label\u001b[0m\u001b[1;33m[\u001b[0m\u001b[0mmask\u001b[0m\u001b[1;33m]\u001b[0m\u001b[1;33m\u001b[0m\u001b[0m\n\u001b[0;32m      8\u001b[0m     \u001b[0mfeed_dict\u001b[0m\u001b[1;33m=\u001b[0m\u001b[1;33m{\u001b[0m\u001b[0mX\u001b[0m\u001b[1;33m:\u001b[0m\u001b[0mx_\u001b[0m\u001b[1;33m,\u001b[0m\u001b[0mY\u001b[0m\u001b[1;33m:\u001b[0m\u001b[0my_\u001b[0m\u001b[1;33m,\u001b[0m\u001b[0mDROPOUT\u001b[0m\u001b[1;33m:\u001b[0m\u001b[1;36m0.5\u001b[0m\u001b[1;33m,\u001b[0m\u001b[0mBN_FLAG\u001b[0m\u001b[1;33m:\u001b[0m\u001b[1;32mTrue\u001b[0m\u001b[1;33m,\u001b[0m\u001b[0mLR\u001b[0m\u001b[1;33m:\u001b[0m\u001b[0mlr_\u001b[0m\u001b[1;33m}\u001b[0m\u001b[1;33m\u001b[0m\u001b[0m\n\u001b[1;32m----> 9\u001b[1;33m     \u001b[0msess\u001b[0m\u001b[1;33m.\u001b[0m\u001b[0mrun\u001b[0m\u001b[1;33m(\u001b[0m\u001b[1;33m[\u001b[0m\u001b[0mTRAIN\u001b[0m\u001b[1;33m,\u001b[0m\u001b[0mex_ops\u001b[0m\u001b[1;33m]\u001b[0m\u001b[1;33m,\u001b[0m\u001b[0mfeed_dict\u001b[0m\u001b[1;33m=\u001b[0m\u001b[0mfeed_dict\u001b[0m\u001b[1;33m)\u001b[0m\u001b[1;33m\u001b[0m\u001b[0m\n\u001b[0m\u001b[0;32m     10\u001b[0m     \u001b[1;32mif\u001b[0m \u001b[0mi\u001b[0m\u001b[1;33m%\u001b[0m\u001b[1;36m10\u001b[0m\u001b[1;33m==\u001b[0m\u001b[1;36m0\u001b[0m\u001b[1;33m:\u001b[0m\u001b[1;33m\u001b[0m\u001b[0m\n\u001b[0;32m     11\u001b[0m         \u001b[0mfeed_dict\u001b[0m\u001b[1;33m=\u001b[0m\u001b[1;33m{\u001b[0m\u001b[0mX\u001b[0m\u001b[1;33m:\u001b[0m\u001b[0mx_\u001b[0m\u001b[1;33m,\u001b[0m\u001b[0mY\u001b[0m\u001b[1;33m:\u001b[0m\u001b[0my_\u001b[0m\u001b[1;33m,\u001b[0m\u001b[0mDROPOUT\u001b[0m\u001b[1;33m:\u001b[0m\u001b[1;36m1.\u001b[0m\u001b[1;33m,\u001b[0m\u001b[0mBN_FLAG\u001b[0m\u001b[1;33m:\u001b[0m\u001b[1;32mFalse\u001b[0m\u001b[1;33m,\u001b[0m\u001b[0mLR\u001b[0m\u001b[1;33m:\u001b[0m\u001b[0mlr_\u001b[0m\u001b[1;33m}\u001b[0m\u001b[1;33m\u001b[0m\u001b[0m\n",
      "\u001b[1;32mE:\\Anaconda\\envs\\tfgpu\\lib\\site-packages\\tensorflow\\python\\client\\session.py\u001b[0m in \u001b[0;36mrun\u001b[1;34m(self, fetches, feed_dict, options, run_metadata)\u001b[0m\n\u001b[0;32m    787\u001b[0m     \u001b[1;32mtry\u001b[0m\u001b[1;33m:\u001b[0m\u001b[1;33m\u001b[0m\u001b[0m\n\u001b[0;32m    788\u001b[0m       result = self._run(None, fetches, feed_dict, options_ptr,\n\u001b[1;32m--> 789\u001b[1;33m                          run_metadata_ptr)\n\u001b[0m\u001b[0;32m    790\u001b[0m       \u001b[1;32mif\u001b[0m \u001b[0mrun_metadata\u001b[0m\u001b[1;33m:\u001b[0m\u001b[1;33m\u001b[0m\u001b[0m\n\u001b[0;32m    791\u001b[0m         \u001b[0mproto_data\u001b[0m \u001b[1;33m=\u001b[0m \u001b[0mtf_session\u001b[0m\u001b[1;33m.\u001b[0m\u001b[0mTF_GetBuffer\u001b[0m\u001b[1;33m(\u001b[0m\u001b[0mrun_metadata_ptr\u001b[0m\u001b[1;33m)\u001b[0m\u001b[1;33m\u001b[0m\u001b[0m\n",
      "\u001b[1;32mE:\\Anaconda\\envs\\tfgpu\\lib\\site-packages\\tensorflow\\python\\client\\session.py\u001b[0m in \u001b[0;36m_run\u001b[1;34m(self, handle, fetches, feed_dict, options, run_metadata)\u001b[0m\n\u001b[0;32m    995\u001b[0m     \u001b[1;32mif\u001b[0m \u001b[0mfinal_fetches\u001b[0m \u001b[1;32mor\u001b[0m \u001b[0mfinal_targets\u001b[0m\u001b[1;33m:\u001b[0m\u001b[1;33m\u001b[0m\u001b[0m\n\u001b[0;32m    996\u001b[0m       results = self._do_run(handle, final_targets, final_fetches,\n\u001b[1;32m--> 997\u001b[1;33m                              feed_dict_string, options, run_metadata)\n\u001b[0m\u001b[0;32m    998\u001b[0m     \u001b[1;32melse\u001b[0m\u001b[1;33m:\u001b[0m\u001b[1;33m\u001b[0m\u001b[0m\n\u001b[0;32m    999\u001b[0m       \u001b[0mresults\u001b[0m \u001b[1;33m=\u001b[0m \u001b[1;33m[\u001b[0m\u001b[1;33m]\u001b[0m\u001b[1;33m\u001b[0m\u001b[0m\n",
      "\u001b[1;32mE:\\Anaconda\\envs\\tfgpu\\lib\\site-packages\\tensorflow\\python\\client\\session.py\u001b[0m in \u001b[0;36m_do_run\u001b[1;34m(self, handle, target_list, fetch_list, feed_dict, options, run_metadata)\u001b[0m\n\u001b[0;32m   1130\u001b[0m     \u001b[1;32mif\u001b[0m \u001b[0mhandle\u001b[0m \u001b[1;32mis\u001b[0m \u001b[1;32mNone\u001b[0m\u001b[1;33m:\u001b[0m\u001b[1;33m\u001b[0m\u001b[0m\n\u001b[0;32m   1131\u001b[0m       return self._do_call(_run_fn, self._session, feed_dict, fetch_list,\n\u001b[1;32m-> 1132\u001b[1;33m                            target_list, options, run_metadata)\n\u001b[0m\u001b[0;32m   1133\u001b[0m     \u001b[1;32melse\u001b[0m\u001b[1;33m:\u001b[0m\u001b[1;33m\u001b[0m\u001b[0m\n\u001b[0;32m   1134\u001b[0m       return self._do_call(_prun_fn, self._session, handle, feed_dict,\n",
      "\u001b[1;32mE:\\Anaconda\\envs\\tfgpu\\lib\\site-packages\\tensorflow\\python\\client\\session.py\u001b[0m in \u001b[0;36m_do_call\u001b[1;34m(self, fn, *args)\u001b[0m\n\u001b[0;32m   1137\u001b[0m   \u001b[1;32mdef\u001b[0m \u001b[0m_do_call\u001b[0m\u001b[1;33m(\u001b[0m\u001b[0mself\u001b[0m\u001b[1;33m,\u001b[0m \u001b[0mfn\u001b[0m\u001b[1;33m,\u001b[0m \u001b[1;33m*\u001b[0m\u001b[0margs\u001b[0m\u001b[1;33m)\u001b[0m\u001b[1;33m:\u001b[0m\u001b[1;33m\u001b[0m\u001b[0m\n\u001b[0;32m   1138\u001b[0m     \u001b[1;32mtry\u001b[0m\u001b[1;33m:\u001b[0m\u001b[1;33m\u001b[0m\u001b[0m\n\u001b[1;32m-> 1139\u001b[1;33m       \u001b[1;32mreturn\u001b[0m \u001b[0mfn\u001b[0m\u001b[1;33m(\u001b[0m\u001b[1;33m*\u001b[0m\u001b[0margs\u001b[0m\u001b[1;33m)\u001b[0m\u001b[1;33m\u001b[0m\u001b[0m\n\u001b[0m\u001b[0;32m   1140\u001b[0m     \u001b[1;32mexcept\u001b[0m \u001b[0merrors\u001b[0m\u001b[1;33m.\u001b[0m\u001b[0mOpError\u001b[0m \u001b[1;32mas\u001b[0m \u001b[0me\u001b[0m\u001b[1;33m:\u001b[0m\u001b[1;33m\u001b[0m\u001b[0m\n\u001b[0;32m   1141\u001b[0m       \u001b[0mmessage\u001b[0m \u001b[1;33m=\u001b[0m \u001b[0mcompat\u001b[0m\u001b[1;33m.\u001b[0m\u001b[0mas_text\u001b[0m\u001b[1;33m(\u001b[0m\u001b[0me\u001b[0m\u001b[1;33m.\u001b[0m\u001b[0mmessage\u001b[0m\u001b[1;33m)\u001b[0m\u001b[1;33m\u001b[0m\u001b[0m\n",
      "\u001b[1;32mE:\\Anaconda\\envs\\tfgpu\\lib\\site-packages\\tensorflow\\python\\client\\session.py\u001b[0m in \u001b[0;36m_run_fn\u001b[1;34m(session, feed_dict, fetch_list, target_list, options, run_metadata)\u001b[0m\n\u001b[0;32m   1119\u001b[0m         return tf_session.TF_Run(session, options,\n\u001b[0;32m   1120\u001b[0m                                  \u001b[0mfeed_dict\u001b[0m\u001b[1;33m,\u001b[0m \u001b[0mfetch_list\u001b[0m\u001b[1;33m,\u001b[0m \u001b[0mtarget_list\u001b[0m\u001b[1;33m,\u001b[0m\u001b[1;33m\u001b[0m\u001b[0m\n\u001b[1;32m-> 1121\u001b[1;33m                                  status, run_metadata)\n\u001b[0m\u001b[0;32m   1122\u001b[0m \u001b[1;33m\u001b[0m\u001b[0m\n\u001b[0;32m   1123\u001b[0m     \u001b[1;32mdef\u001b[0m \u001b[0m_prun_fn\u001b[0m\u001b[1;33m(\u001b[0m\u001b[0msession\u001b[0m\u001b[1;33m,\u001b[0m \u001b[0mhandle\u001b[0m\u001b[1;33m,\u001b[0m \u001b[0mfeed_dict\u001b[0m\u001b[1;33m,\u001b[0m \u001b[0mfetch_list\u001b[0m\u001b[1;33m)\u001b[0m\u001b[1;33m:\u001b[0m\u001b[1;33m\u001b[0m\u001b[0m\n",
      "\u001b[1;31mKeyboardInterrupt\u001b[0m: "
     ]
    }
   ],
   "source": [
    "# 150 loop/min\n",
    "lr_=1e-3\n",
    "batch_size=104\n",
    "acc_his=[]\n",
    "for i in range(1,1000*5000):\n",
    "    mask=np.random.choice(tr_data.shape[0],batch_size,replace=False)\n",
    "    x_,y_=tr_data[mask],tr_label[mask]\n",
    "    feed_dict={X:x_,Y:y_,DROPOUT:0.5,BN_FLAG:True,LR:lr_}\n",
    "    sess.run([TRAIN,ex_ops],feed_dict=feed_dict)\n",
    "    if i%10==0:\n",
    "        feed_dict={X:x_,Y:y_,DROPOUT:1.,BN_FLAG:False,LR:lr_}\n",
    "        loss_,acc_,m_=sess.run([LOSS,ACCURACY,merge],feed_dict=feed_dict)\n",
    "        writer_tr.add_summary(m_,i)\n",
    "        print('train epoch:{},loss:{:.5f},accuracy:{:.5f}'.format(i,loss_,acc_))\n",
    "    if i%20==0:\n",
    "        mask=np.random.choice(te_data.shape[0],128,replace=False)\n",
    "        x_,y_=te_data[mask],te_label[mask]\n",
    "        feed_dict={X:x_,Y:y_,DROPOUT:1.,BN_FLAG:False,LR:lr_}\n",
    "        loss_,acc_,m_=sess.run([LOSS,ACCURACY,merge],feed_dict=feed_dict)\n",
    "        writer_te.add_summary(m_,i)\n",
    "        acc_his.append(acc_)\n",
    "        mean_acc=np.mean(acc_his[-10:])\n",
    "        print('--test epoch:{},loss:{:.5f},accuracy:{:.5f},mean acc:{:.5f}'.format(i,loss_,acc_,mean_acc))\n",
    "    if i%30==0:\n",
    "        mask=np.random.choice(val_data.shape[0],128,replace=False)\n",
    "        x_,y_=val_data[mask],val_label[mask]\n",
    "        feed_dict={X:x_,Y:y_,DROPOUT:1.,BN_FLAG:False,LR:lr_}\n",
    "        loss_,acc_,m_=sess.run([LOSS,ACCURACY,merge],feed_dict=feed_dict)\n",
    "        writer_val.add_summary(m_,i)\n",
    "        print('@@val epoch:{},loss:{:.5f},accuracy:{:.5f}'.format(i,loss_,acc_))\n",
    "    if i%400==0:\n",
    "        lr_=max(lr_*0.5,1e-5)\n",
    "        print('$$$ lr change:{}'.format(lr_))"
   ]
  },
  {
   "cell_type": "code",
   "execution_count": null,
   "metadata": {
    "collapsed": true
   },
   "outputs": [],
   "source": [
    "def count_trainable_params():\n",
    "    total_parameters = 0\n",
    "    for variable in tf.trainable_variables():\n",
    "        shape = variable.get_shape()\n",
    "        variable_parametes = 1\n",
    "        for dim in shape:\n",
    "            variable_parametes *= dim.value\n",
    "        total_parameters += variable_parametes\n",
    "    print(\"Total training params: %.5f Million,%.5f Mb\" % (total_parameters / 1e6,total_parameters* 4/ (1024*1024)))\n",
    "count_trainable_params()"
   ]
  },
  {
   "cell_type": "markdown",
   "metadata": {},
   "source": [
    "#### 提取所有可训练参数，并保存"
   ]
  },
  {
   "cell_type": "code",
   "execution_count": null,
   "metadata": {
    "collapsed": true,
    "scrolled": true
   },
   "outputs": [],
   "source": [
    "filename='test_cumt.pkl'\n",
    "all_var_name=list(tf.trainable_variables())\n",
    "weight_dict={}\n",
    "#提取变量值\n",
    "for name_ in all_var_name:\n",
    "    #变量名称\n",
    "    layer_name=str(name_).split(\"'\")[1][:-2]\n",
    "    #print(layer_name)\n",
    "    with tf.variable_scope('',reuse=True):\n",
    "        var=tf.get_variable(layer_name)\n",
    "        #注意var是tensor，需要转换一下\n",
    "        weight_dict[layer_name]=sess.run(var)\n",
    "#保存到pkl文件中\n",
    "fp=open(filename,'wb')\n",
    "pickle.dump(obj=weight_dict,file=fp)\n",
    "fp.close()\n",
    "print('save weight file done!')"
   ]
  },
  {
   "cell_type": "markdown",
   "metadata": {},
   "source": [
    "#### 加载保存的网络参数"
   ]
  },
  {
   "cell_type": "code",
   "execution_count": null,
   "metadata": {
    "collapsed": true
   },
   "outputs": [],
   "source": [
    "weight_addr='test_cumt.pkl'\n",
    "skip_layer=[]\n",
    "network_dict=np.load(weight_addr)\n",
    "layer_name=list(network_dict.keys())\n",
    "for name_ in layer_name:\n",
    "    if name_ in skip_layer:\n",
    "        print('skip layer:{}'.format(name_))\n",
    "        continue\n",
    "    with tf.variable_scope('',reuse=True):\n",
    "        var=tf.get_variable(name_)\n",
    "        sess.run(var.assign(network_dict[name_]))\n",
    "print('network init done!')"
   ]
  },
  {
   "cell_type": "markdown",
   "metadata": {},
   "source": [
    "#### 计算所有可训练变量数"
   ]
  },
  {
   "cell_type": "code",
   "execution_count": null,
   "metadata": {
    "collapsed": true
   },
   "outputs": [],
   "source": [
    "\n",
    "sum_=0\n",
    "for s in list(tf.trainable_variables()):\n",
    "    s=str(s)\n",
    "    shape_=s[s.index('(')+1:s.index(')')].split(',')\n",
    "    s_=1\n",
    "    #print(shape_)\n",
    "    for i in shape_:\n",
    "        if i =='':continue\n",
    "        #print(i)\n",
    "        s_*=int(i)\n",
    "    sum_+=s_\n",
    "print('trainable variables nums:{},{}Mb'.format(sum_,sum_*4/(1024*1024)))"
   ]
  },
  {
   "cell_type": "code",
   "execution_count": null,
   "metadata": {
    "collapsed": true
   },
   "outputs": [],
   "source": [
    "#保存模型\n",
    "saver=tf.train.Saver()\n",
    "saver.save(sess,'./model_save/model.ckpt',global_step=1000)"
   ]
  },
  {
   "cell_type": "code",
   "execution_count": null,
   "metadata": {
    "collapsed": true
   },
   "outputs": [],
   "source": [
    "'''\n",
    "在视频中插入判别网络\n",
    "'''"
   ]
  },
  {
   "cell_type": "code",
   "execution_count": null,
   "metadata": {
    "collapsed": true
   },
   "outputs": [],
   "source": [
    "prob=tf.nn.softmax(y_score,name='prob')\n",
    "y_guess=tf.arg_max(prob,1)+1\n",
    "\n",
    "#预测方向到九宫格方向,\n",
    "pre2block={2:3,3:2,4:1,\n",
    "           5:6,6:5,7:4,\n",
    "           8:9,9:8,10:7}\n",
    "#校正时需要保存图像均值\n",
    "VGG_MEAN =mean_pic"
   ]
  },
  {
   "cell_type": "code",
   "execution_count": null,
   "metadata": {
    "collapsed": true
   },
   "outputs": [],
   "source": [
    "#BGR\n",
    "#VGG_MEAN = [103.939, 116.779, 123.68]\n"
   ]
  },
  {
   "cell_type": "code",
   "execution_count": null,
   "metadata": {
    "collapsed": true,
    "scrolled": true
   },
   "outputs": [],
   "source": [
    "cap = cv2.VideoCapture(r'test_video/101603.mp4')\n",
    "fps=cap.get(cv2.CAP_PROP_FPS)\n",
    "fsize=(\n",
    "    int(cap.get(cv2.CAP_PROP_FRAME_WIDTH)),\n",
    "    int(cap.get(cv2.CAP_PROP_FRAME_HEIGHT))\n",
    "      )\n",
    "# save video\n",
    "video_saver=cv2.VideoWriter('demo_1041.flv',cv2.VideoWriter_fourcc('F','L','V','1'),50,fsize)\n",
    "while (True):\n",
    "    ret,frame = cap.read()\n",
    "    \n",
    "    if ret==True:\n",
    "        #截取眼部图片\n",
    "#         frame=np.transpose(frame,[1,0,2])\n",
    "#         frame=frame[::-1,:,:]\n",
    "#         eye_img=None\n",
    "        #frame=frame[:,::-1,:]\n",
    "        eye_img=UI.drew_face_eye(frame)\n",
    "        if eye_img is None:\n",
    "            #没有检测到眼睛，跳到下一帧\n",
    "            cv2.imshow('frame',frame)\n",
    "            video_saver.write(frame)\n",
    "            if cv2.waitKey(10)& 0xff ==ord('q'):\n",
    "                print('quite')\n",
    "                break\n",
    "            continue\n",
    "        # BGR -> RGB\n",
    "        eye_img=eye_img[:,:,::-1]\n",
    "        e1=imresize(eye_img,(32,128,3)).astype('float32')-VGG_MEAN\n",
    "        \n",
    "        x_=e1.reshape((1,32,128,3))\n",
    "        pre_asw=sess.run(y_guess,feed_dict={X:x_,DROPOUT:1.,BN_FLAG:False})[0]\n",
    "        #给图片划线，划框\n",
    "        print(pre_asw)\n",
    "        frame=UI.drawline(frame,line_w=1)\n",
    "        if pre_asw != 1:\n",
    "            #有检测结果\n",
    "            \n",
    "            frame=UI.drawblock(frame,pre2block[pre_asw])\n",
    "            #cv2.waitKey()\n",
    "        #cv2.imshow('frame',x_.reshape((32,128,3)))\n",
    "        cv2.imshow('frame',frame)\n",
    "        video_saver.write(frame)\n",
    "        if cv2.waitKey(10)& 0xff ==ord('q'):\n",
    "            print('quite')\n",
    "            break\n",
    "    else:\n",
    "        print('video end')\n",
    "        break\n",
    "cap.release()\n",
    "video_saver.release()\n",
    "cv2.destroyAllWindows()"
   ]
  },
  {
   "cell_type": "code",
   "execution_count": null,
   "metadata": {
    "collapsed": true
   },
   "outputs": [],
   "source": [
    "/**************************************************************************/\n",
    "'''\n",
    "用固定的眼部识别参数截取眼部图片\n",
    "标注，保存\n",
    "'''"
   ]
  },
  {
   "cell_type": "code",
   "execution_count": null,
   "metadata": {
    "collapsed": true
   },
   "outputs": [],
   "source": [
    "import cv2\n",
    "import UI\n",
    "import matplotlib.pyplot as plt\n",
    "import os\n",
    "import numpy as np\n",
    "from scipy.misc import imread\n",
    "from scipy.misc import imresize\n",
    "\n",
    "#自然方向 -> 论文方向\n",
    "key_map={\n",
    "         1:'10',2:'9',3:'8',\n",
    "         4:'7',5:'6',6:'5',\n",
    "         7:'4',8:'3',9:'2',\n",
    "         0:'1'\n",
    "        }"
   ]
  },
  {
   "cell_type": "code",
   "execution_count": null,
   "metadata": {
    "collapsed": true
   },
   "outputs": [],
   "source": [
    "#改\n",
    "cap = cv2.VideoCapture(r'test_video/101603.mp4')\n",
    "i_counter=0\n",
    "while (True):\n",
    "    i_counter+=1\n",
    "    ret,frame = cap.read()\n",
    "    if ret==True:\n",
    "        #截取眼部图片\n",
    "        eye_img=UI.drew_face_eye(frame)\n",
    "        if eye_img is not None:\n",
    "            cv2.imshow('frame',eye_img)\n",
    "            a=(cv2.waitKey())-48\n",
    "            cv2.destroyWindow('frame')\n",
    "            \n",
    "            # Esc 退出，'.'表示放弃这张图\n",
    "            if a==(-21):\n",
    "                break\n",
    "            elif a!=-2:\n",
    "                resize_img=imresize(eye_img,(32,128,3)).astype('uint8')\n",
    "                cv2.imwrite('./test_video/101603'+str(i_counter)+'_'+key_map[a]+'.jpg',resize_img)\n",
    "    else:\n",
    "        print('video end')\n",
    "        break\n",
    "cap.release()\n",
    "cv2.destroyAllWindows()"
   ]
  },
  {
   "cell_type": "code",
   "execution_count": null,
   "metadata": {
    "collapsed": true
   },
   "outputs": [],
   "source": [
    "img_root='./test_video/101603'\n",
    "lis=os.listdir(img_root)\n",
    "img_arr,lab_arr=[],[]\n",
    "for addr in lis:\n",
    "    #标签\n",
    "    lable_=[0]*10\n",
    "    if addr[-5]==0:\n",
    "        n=10\n",
    "    else:\n",
    "        n=int(addr[-5])\n",
    "    lable_[n-1]=1\n",
    "    lab_arr.append(lable_)\n",
    "    #图像\n",
    "    img_=imread(os.path.join(img_root,addr))\n",
    "    #img_=imresize(img_,(32,128,3)).astype('uint8')\n",
    "    img_arr.append(img_)\n",
    "img_mat=np.array(img_arr)\n",
    "lab_mat=np.array(lab_arr)"
   ]
  },
  {
   "cell_type": "code",
   "execution_count": null,
   "metadata": {
    "collapsed": true
   },
   "outputs": [],
   "source": [
    "img_mat.shape"
   ]
  },
  {
   "cell_type": "code",
   "execution_count": null,
   "metadata": {
    "collapsed": true
   },
   "outputs": [],
   "source": [
    "import pickle\n",
    "fp=open('./test_video/101603/101603_z.pkl','wb')\n",
    "pickle.dump(file=fp,obj={'images':img_mat,'labels':lab_mat})\n",
    "fp.close()"
   ]
  },
  {
   "cell_type": "code",
   "execution_count": null,
   "metadata": {
    "collapsed": true
   },
   "outputs": [],
   "source": []
  }
 ],
 "metadata": {
  "kernelspec": {
   "display_name": "Python 3",
   "language": "python",
   "name": "python3"
  },
  "language_info": {
   "codemirror_mode": {
    "name": "ipython",
    "version": 3
   },
   "file_extension": ".py",
   "mimetype": "text/x-python",
   "name": "python",
   "nbconvert_exporter": "python",
   "pygments_lexer": "ipython3",
   "version": "3.5.3"
  }
 },
 "nbformat": 4,
 "nbformat_minor": 2
}
