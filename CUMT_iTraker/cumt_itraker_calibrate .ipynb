{
 "cells": [
  {
   "cell_type": "code",
   "execution_count": null,
   "metadata": {
    "collapsed": true
   },
   "outputs": [],
   "source": [
    "'''\n",
    "2017年10月12日\n",
    "    完成：\n",
    "        对不同环境下的图片进行标定，用这些标定图片微调网络，能得到比较好的表现\n",
    "        opencv读取视频得到的图片是BGR模式的，CUMT模型时RGB输入，需要调整\n",
    "''"
   ]
  },
  {
   "cell_type": "code",
   "execution_count": null,
   "metadata": {},
   "outputs": [],
   "source": [
    "import tensorflow as tf\n",
    "import numpy as np\n",
    "from cumt_eye import Cumt_itraker\n",
    "import matplotlib.pyplot as plt\n",
    "import os\n",
    "from scipy.misc import imread\n",
    "from scipy.misc import imresize\n",
    "import UI\n",
    "import cv2\n",
    "sess=tf.InteractiveSession()\n",
    "cumt_data=np.load(r'D:\\Proj_DL\\Code\\Proj_EyeTraker\\cumt_data.pkl')\n",
    "\n",
    "\n",
    "X=tf.placeholder(shape=[None,32,128,3],dtype=tf.float32)\n",
    "Y=tf.placeholder(shape=[None,10],dtype=tf.float32)\n",
    "DROPOUT=tf.placeholder(dtype=tf.float32)\n",
    "LR=tf.placeholder(dtype=tf.float32)\n",
    "BN_FLAG=tf.placeholder(dtype=tf.bool)\n",
    "\n",
    "with tf.name_scope('model'):\n",
    "    model=Cumt_itraker(image=X,bn_flag=BN_FLAG,dropout_rate=DROPOUT)\n",
    "    y_score=model.score\n",
    "\n",
    "with tf.name_scope('LOSS'):\n",
    "    LOSS=tf.reduce_mean(tf.nn.softmax_cross_entropy_with_logits(logits=y_score,labels=Y))\n",
    "    tf.summary.scalar('loss',LOSS)\n",
    "with tf.name_scope('TRAIN'):\n",
    "    TRAIN=tf.train.AdamOptimizer(LR).minimize(LOSS)\n",
    "with tf.name_scope('ACCURACY'):\n",
    "    acc_count=tf.equal(tf.arg_max(y_score,1),tf.arg_max(Y,1))\n",
    "    ACCURACY=tf.reduce_mean(tf.cast(acc_count,tf.float32))\n",
    "    tf.summary.scalar('acc',ACCURACY)\n",
    "\n",
    "writer_tr=tf.summary.FileWriter('./mylog/test')\n",
    "writer_te=tf.summary.FileWriter('./mylog/val')\n",
    "merge=tf.summary.merge_all()\n",
    "ex_ops=tf.get_collection(tf.GraphKeys.UPDATE_OPS)\n",
    "\n"
   ]
  },
  {
   "cell_type": "code",
   "execution_count": null,
   "metadata": {
    "collapsed": true
   },
   "outputs": [],
   "source": [
    "#初始化变量，需要重新训练才运行\n",
    "init=tf.global_variables_initializer()\n",
    "sess.run(init)"
   ]
  },
  {
   "cell_type": "code",
   "execution_count": null,
   "metadata": {},
   "outputs": [],
   "source": [
    "#从保存的检查点钟复原变量，加载原数据训练好的模型\n",
    "saver=tf.train.Saver()\n",
    "saver.restore(sess,r'D:\\Proj_DL\\Code\\Proj_EyeTraker\\model_save\\model_71.ckpt-64600')\n"
   ]
  },
  {
   "cell_type": "code",
   "execution_count": null,
   "metadata": {
    "collapsed": true
   },
   "outputs": [],
   "source": [
    "#模拟校正的图片,训练图片为 RGB\n",
    "d=np.load('./test_video/101603/101603_z.pkl')\n",
    "val={}\n",
    "mean_pic=np.mean(d['images'],0)\n",
    "#mean_pic=[103.939, 116.779, 123.68]\n",
    "val['images']=d['images'].astype('float32')-mean_pic\n",
    "val['labels']=d['labels']\n",
    "del d"
   ]
  },
  {
   "cell_type": "code",
   "execution_count": null,
   "metadata": {},
   "outputs": [],
   "source": [
    "val['images'].shape"
   ]
  },
  {
   "cell_type": "code",
   "execution_count": null,
   "metadata": {},
   "outputs": [],
   "source": [
    "#方法 1：随机抽取照片标定\n",
    "\n",
    "tr_num=(val['images'].shape[0])*0.3#校正图片数目\n",
    "tr_num=int(tr_num)\n",
    "#修改，只用一部分视频数据来训练，看效果\n",
    "all_picnum=val['images'].shape[0]\n",
    "index=a=np.asarray(range(all_picnum))\n",
    "np.random.shuffle(index)\n",
    "tr_mask=index[:tr_num]\n",
    "te_mask=index[tr_num:]\n",
    "tr_img,tr_lab=val['images'][tr_mask],val['labels'][tr_mask]\n",
    "te_img,te_lab=val['images'][te_mask],val['labels'][te_mask]\n"
   ]
  },
  {
   "cell_type": "code",
   "execution_count": null,
   "metadata": {},
   "outputs": [],
   "source": [
    "tr_num"
   ]
  },
  {
   "cell_type": "code",
   "execution_count": null,
   "metadata": {
    "collapsed": true
   },
   "outputs": [],
   "source": [
    "saver=tf.train.Saver()"
   ]
  },
  {
   "cell_type": "code",
   "execution_count": null,
   "metadata": {
    "scrolled": true
   },
   "outputs": [],
   "source": [
    "# 150 loop/min\n",
    "lr_=1e-3\n",
    "for i in range(150*60*2):\n",
    "    mask=np.random.choice(range(tr_num),64,replace=False)\n",
    "    x_,y_=tr_img[mask],tr_lab[mask]\n",
    "    #x_,y_=tr_img,tr_lab\n",
    "    feed_dict={X:x_,Y:y_,DROPOUT:0.1,BN_FLAG:True,LR:lr_}\n",
    "    sess.run([TRAIN,ex_ops],feed_dict=feed_dict)\n",
    "\n",
    "    if i%10==0:\n",
    "        x_,y_=te_img,te_lab\n",
    "        feed_dict={X:x_,Y:y_,DROPOUT:1.,BN_FLAG:False,LR:lr_}\n",
    "        loss_,acc_,m_=sess.run([LOSS,ACCURACY,merge],feed_dict=feed_dict)\n",
    "        writer_te.add_summary(m_,i)\n",
    "        if acc_>0.9999:\n",
    "            m_name='./model_save/v3model_'+str(int(acc_*100))+'.ckpt'\n",
    "            saver.save(sess,m_name,global_step=i)\n",
    "            lr_=max(1e-5,0.5*lr_)\n",
    "            print('Save model,epoch:{},validate accuracy:{},learning rate:{}'.format(i,acc_,lr_))\n",
    "           \n",
    "            break\n",
    "        print('--epoch:{},loss:{},accuracy:{}'.format(i,loss_,acc_))"
   ]
  },
  {
   "cell_type": "code",
   "execution_count": null,
   "metadata": {
    "collapsed": true
   },
   "outputs": [],
   "source": [
    "#保存模型\n",
    "saver=tf.train.Saver()\n",
    "saver.save(sess,'./model_save/model.ckpt',global_step=1000)"
   ]
  },
  {
   "cell_type": "code",
   "execution_count": null,
   "metadata": {
    "collapsed": true
   },
   "outputs": [],
   "source": [
    "'''\n",
    "在视频中插入判别网络\n",
    "'''"
   ]
  },
  {
   "cell_type": "code",
   "execution_count": null,
   "metadata": {},
   "outputs": [],
   "source": [
    "prob=tf.nn.softmax(y_score,name='prob')\n",
    "y_guess=tf.arg_max(prob,1)+1\n",
    "\n",
    "#预测方向到九宫格方向,\n",
    "pre2block={2:3,3:2,4:1,\n",
    "           5:6,6:5,7:4,\n",
    "           8:9,9:8,10:7}\n",
    "#校正时需要保存图像均值\n",
    "VGG_MEAN =mean_pic"
   ]
  },
  {
   "cell_type": "code",
   "execution_count": null,
   "metadata": {
    "collapsed": true
   },
   "outputs": [],
   "source": [
    "#BGR\n",
    "#VGG_MEAN = [103.939, 116.779, 123.68]\n"
   ]
  },
  {
   "cell_type": "code",
   "execution_count": null,
   "metadata": {
    "scrolled": true
   },
   "outputs": [],
   "source": [
    "cap = cv2.VideoCapture(r'test_video/101603.mp4')\n",
    "fps=cap.get(cv2.CAP_PROP_FPS)\n",
    "fsize=(\n",
    "    int(cap.get(cv2.CAP_PROP_FRAME_WIDTH)),\n",
    "    int(cap.get(cv2.CAP_PROP_FRAME_HEIGHT))\n",
    "      )\n",
    "# save video\n",
    "video_saver=cv2.VideoWriter('demo_1041.flv',cv2.VideoWriter_fourcc('F','L','V','1'),50,fsize)\n",
    "while (True):\n",
    "    ret,frame = cap.read()\n",
    "    \n",
    "    if ret==True:\n",
    "        #截取眼部图片\n",
    "#         frame=np.transpose(frame,[1,0,2])\n",
    "#         frame=frame[::-1,:,:]\n",
    "#         eye_img=None\n",
    "        #frame=frame[:,::-1,:]\n",
    "        eye_img=UI.drew_face_eye(frame)\n",
    "        if eye_img is None:\n",
    "            #没有检测到眼睛，跳到下一帧\n",
    "            cv2.imshow('frame',frame)\n",
    "            video_saver.write(frame)\n",
    "            if cv2.waitKey(10)& 0xff ==ord('q'):\n",
    "                print('quite')\n",
    "                break\n",
    "            continue\n",
    "        # BGR -> RGB\n",
    "        eye_img=eye_img[:,:,::-1]\n",
    "        e1=imresize(eye_img,(32,128,3)).astype('float32')-VGG_MEAN\n",
    "        \n",
    "        x_=e1.reshape((1,32,128,3))\n",
    "        pre_asw=sess.run(y_guess,feed_dict={X:x_,DROPOUT:1.,BN_FLAG:False})[0]\n",
    "        #给图片划线，划框\n",
    "        print(pre_asw)\n",
    "        frame=UI.drawline(frame,line_w=1)\n",
    "        if pre_asw != 1:\n",
    "            #有检测结果\n",
    "            \n",
    "            frame=UI.drawblock(frame,pre2block[pre_asw])\n",
    "            #cv2.waitKey()\n",
    "        #cv2.imshow('frame',x_.reshape((32,128,3)))\n",
    "        cv2.imshow('frame',frame)\n",
    "        video_saver.write(frame)\n",
    "        if cv2.waitKey(10)& 0xff ==ord('q'):\n",
    "            print('quite')\n",
    "            break\n",
    "    else:\n",
    "        print('video end')\n",
    "        break\n",
    "cap.release()\n",
    "video_saver.release()\n",
    "cv2.destroyAllWindows()"
   ]
  },
  {
   "cell_type": "code",
   "execution_count": null,
   "metadata": {
    "collapsed": true
   },
   "outputs": [],
   "source": [
    "/**************************************************************************/\n",
    "'''\n",
    "用固定的眼部识别参数截取眼部图片\n",
    "标注，保存\n",
    "'''"
   ]
  },
  {
   "cell_type": "code",
   "execution_count": null,
   "metadata": {
    "collapsed": true
   },
   "outputs": [],
   "source": [
    "import cv2\n",
    "import UI\n",
    "import matplotlib.pyplot as plt\n",
    "import os\n",
    "import numpy as np\n",
    "from scipy.misc import imread\n",
    "from scipy.misc import imresize\n",
    "\n",
    "#自然方向 -> 论文方向\n",
    "key_map={\n",
    "         1:'10',2:'9',3:'8',\n",
    "         4:'7',5:'6',6:'5',\n",
    "         7:'4',8:'3',9:'2',\n",
    "         0:'1'\n",
    "        }"
   ]
  },
  {
   "cell_type": "code",
   "execution_count": null,
   "metadata": {},
   "outputs": [],
   "source": [
    "#改\n",
    "cap = cv2.VideoCapture(r'test_video/101603.mp4')\n",
    "i_counter=0\n",
    "while (True):\n",
    "    i_counter+=1\n",
    "    ret,frame = cap.read()\n",
    "    if ret==True:\n",
    "        #截取眼部图片\n",
    "        eye_img=UI.drew_face_eye(frame)\n",
    "        if eye_img is not None:\n",
    "            cv2.imshow('frame',eye_img)\n",
    "            a=(cv2.waitKey())-48\n",
    "            cv2.destroyWindow('frame')\n",
    "            \n",
    "            # Esc 退出，'.'表示放弃这张图\n",
    "            if a==(-21):\n",
    "                break\n",
    "            elif a!=-2:\n",
    "                resize_img=imresize(eye_img,(32,128,3)).astype('uint8')\n",
    "                cv2.imwrite('./test_video/101603'+str(i_counter)+'_'+key_map[a]+'.jpg',resize_img)\n",
    "    else:\n",
    "        print('video end')\n",
    "        break\n",
    "cap.release()\n",
    "cv2.destroyAllWindows()"
   ]
  },
  {
   "cell_type": "code",
   "execution_count": null,
   "metadata": {
    "collapsed": true
   },
   "outputs": [],
   "source": [
    "img_root='./test_video/101603'\n",
    "lis=os.listdir(img_root)\n",
    "img_arr,lab_arr=[],[]\n",
    "for addr in lis:\n",
    "    #标签\n",
    "    lable_=[0]*10\n",
    "    if addr[-5]==0:\n",
    "        n=10\n",
    "    else:\n",
    "        n=int(addr[-5])\n",
    "    lable_[n-1]=1\n",
    "    lab_arr.append(lable_)\n",
    "    #图像\n",
    "    img_=imread(os.path.join(img_root,addr))\n",
    "    #img_=imresize(img_,(32,128,3)).astype('uint8')\n",
    "    img_arr.append(img_)\n",
    "img_mat=np.array(img_arr)\n",
    "lab_mat=np.array(lab_arr)"
   ]
  },
  {
   "cell_type": "code",
   "execution_count": null,
   "metadata": {},
   "outputs": [],
   "source": [
    "img_mat.shape"
   ]
  },
  {
   "cell_type": "code",
   "execution_count": null,
   "metadata": {
    "collapsed": true
   },
   "outputs": [],
   "source": [
    "import pickle\n",
    "fp=open('./test_video/101603/101603_z.pkl','wb')\n",
    "pickle.dump(file=fp,obj={'images':img_mat,'labels':lab_mat})\n",
    "fp.close()"
   ]
  },
  {
   "cell_type": "code",
   "execution_count": null,
   "metadata": {
    "collapsed": true
   },
   "outputs": [],
   "source": [
    "/********************************************************/\n",
    "'''\n",
    "视频分辨率转换\n",
    "（M,N） -> (640,480)\n",
    "'''"
   ]
  },
  {
   "cell_type": "code",
   "execution_count": null,
   "metadata": {
    "collapsed": true
   },
   "outputs": [],
   "source": [
    "import cv2\n",
    "from scipy.misc import imresize\n",
    "import numpy as np\n",
    "ori_video=r'real-Z.mp4'\n",
    "tar_video=r'real_h.flv'"
   ]
  },
  {
   "cell_type": "code",
   "execution_count": null,
   "metadata": {
    "collapsed": true
   },
   "outputs": [],
   "source": [
    "cap = cv2.VideoCapture(r'real_H.mp4')\n",
    "fps=cap.get(cv2.CAP_PROP_FPS)\n",
    "fsize=(\n",
    "    int(cap.get(cv2.CAP_PROP_FRAME_HEIGHT)),\n",
    "    int(cap.get(cv2.CAP_PROP_FRAME_WIDTH)),\n",
    "    \n",
    "      )\n",
    "# save video\n",
    "video_saver=cv2.VideoWriter('real_h.flv',cv2.VideoWriter_fourcc('F','L','V','1'),30,fsize)\n",
    "while (True):\n",
    "    ret,frame = cap.read()\n",
    "    if ret==True:\n",
    "        frame=(np.transpose(frame,[1,0,2]))[::-1,:,:]\n",
    "        cv2.imshow('frame',frame)\n",
    "        video_saver.write(frame)\n",
    "        if cv2.waitKey(10)& 0xff ==ord('q'):\n",
    "            print('quite')\n",
    "            break\n",
    "    else:\n",
    "        print('video end')\n",
    "        break\n",
    "cap.release()\n",
    "video_saver.release()\n",
    "cv2.destroyAllWindows()"
   ]
  },
  {
   "cell_type": "code",
   "execution_count": null,
   "metadata": {
    "collapsed": true
   },
   "outputs": [],
   "source": [
    "video_saver"
   ]
  },
  {
   "cell_type": "code",
   "execution_count": null,
   "metadata": {
    "collapsed": true
   },
   "outputs": [],
   "source": [
    "video_saver.release()"
   ]
  },
  {
   "cell_type": "code",
   "execution_count": null,
   "metadata": {
    "collapsed": true
   },
   "outputs": [],
   "source": []
  }
 ],
 "metadata": {
  "kernelspec": {
   "display_name": "Python 3",
   "language": "python",
   "name": "python3"
  },
  "language_info": {
   "codemirror_mode": {
    "name": "ipython",
    "version": 3
   },
   "file_extension": ".py",
   "mimetype": "text/x-python",
   "name": "python",
   "nbconvert_exporter": "python",
   "pygments_lexer": "ipython3",
   "version": "3.5.0"
  }
 },
 "nbformat": 4,
 "nbformat_minor": 2
}
