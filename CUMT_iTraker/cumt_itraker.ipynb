{
 "cells": [
  {
   "cell_type": "code",
   "execution_count": null,
   "metadata": {
    "collapsed": true
   },
   "outputs": [],
   "source": [
    "import tensorflow as tf\n",
    "import numpy as np\n",
    "from cumt_eye import Cumt_itraker\n",
    "import matplotlib.pyplot as plt\n",
    "sess=tf.InteractiveSession()\n",
    "cumt_data=np.load('cumt_data.pkl')"
   ]
  },
  {
   "cell_type": "code",
   "execution_count": null,
   "metadata": {
    "collapsed": true
   },
   "outputs": [],
   "source": [
    "X=tf.placeholder(shape=[None,32,128,3],dtype=tf.float32)\n",
    "Y=tf.placeholder(shape=[None,10],dtype=tf.float32)\n",
    "DROPOUT=tf.placeholder(dtype=tf.float32)\n",
    "LR=tf.placeholder(dtype=tf.float32)\n",
    "BN_FLAG=tf.placeholder(dtype=tf.bool)"
   ]
  },
  {
   "cell_type": "code",
   "execution_count": null,
   "metadata": {
    "collapsed": true,
    "scrolled": true
   },
   "outputs": [],
   "source": [
    "with tf.name_scope('model'):\n",
    "    model=Cumt_itraker(image=X,bn_flag=BN_FLAG,dropout_rate=DROPOUT)\n",
    "    y_score=model.score"
   ]
  },
  {
   "cell_type": "code",
   "execution_count": null,
   "metadata": {
    "collapsed": true
   },
   "outputs": [],
   "source": [
    "with tf.name_scope('LOSS'):\n",
    "    LOSS=tf.reduce_mean(tf.nn.softmax_cross_entropy_with_logits(logits=y_score,labels=Y))\n",
    "    tf.summary.scalar('loss',LOSS)\n",
    "with tf.name_scope('TRAIN'):\n",
    "    TRAIN=tf.train.AdamOptimizer(LR).minimize(LOSS)\n",
    "with tf.name_scope('ACCURACY'):\n",
    "    acc_count=tf.equal(tf.arg_max(y_score,1),tf.arg_max(Y,1))\n",
    "    ACCURACY=tf.reduce_mean(tf.cast(acc_count,tf.float32))\n",
    "    tf.summary.scalar('acc',ACCURACY)"
   ]
  },
  {
   "cell_type": "code",
   "execution_count": null,
   "metadata": {
    "collapsed": true
   },
   "outputs": [],
   "source": [
    "writer_tr=tf.summary.FileWriter('./mylog/test')\n",
    "writer_te=tf.summary.FileWriter('./mylog/val')\n",
    "merge=tf.summary.merge_all()\n",
    "ex_ops=tf.get_collection(tf.GraphKeys.UPDATE_OPS)\n",
    "\n"
   ]
  },
  {
   "cell_type": "code",
   "execution_count": null,
   "metadata": {
    "collapsed": true
   },
   "outputs": [],
   "source": [
    "#初始化变量，需要重新训练才运行\n",
    "init=tf.global_variables_initializer()\n",
    "sess.run(init)"
   ]
  },
  {
   "cell_type": "code",
   "execution_count": null,
   "metadata": {
    "collapsed": true
   },
   "outputs": [],
   "source": [
    "#从保存的检查点钟复原变量\n",
    "saver=tf.train.Saver()\n",
    "saver.restore(sess,'./model_save/model_71.ckpt-64600')"
   ]
  },
  {
   "cell_type": "code",
   "execution_count": null,
   "metadata": {
    "collapsed": true
   },
   "outputs": [],
   "source": [
    "test_range=np.random.choice(range(cumt_data['data'].shape[0]),int(cumt_data['data'].shape[0]*0.2),replace=False)\n",
    "train_range=np.asarray(list(set(range(cumt_data['data'].shape[0]))-set(test_range)))"
   ]
  },
  {
   "cell_type": "code",
   "execution_count": null,
   "metadata": {
    "collapsed": true
   },
   "outputs": [],
   "source": [
    "d=np.load('eye_val.pkl')\n",
    "val={}\n",
    "val['images']=d['images'].astype('float32')-[103.939, 116.779, 123.68]\n",
    "val['labels']=d['labels']\n",
    "del d"
   ]
  },
  {
   "cell_type": "code",
   "execution_count": null,
   "metadata": {
    "collapsed": true
   },
   "outputs": [],
   "source": [
    "saver=tf.train.Saver()"
   ]
  },
  {
   "cell_type": "code",
   "execution_count": null,
   "metadata": {
    "collapsed": true,
    "scrolled": true
   },
   "outputs": [],
   "source": [
    "lr_=1e-4\n",
    "for i in range(1000*6*12):\n",
    "    mask=np.random.choice(train_range,256,replace=False)\n",
    "    x_,y_=cumt_data['data'][mask],cumt_data['labels'][mask]\n",
    "    feed_dict={X:x_,Y:y_,DROPOUT:0.3,BN_FLAG:True,LR:lr_}\n",
    "    sess.run([TRAIN,ex_ops],feed_dict=feed_dict)\n",
    "#     if i%10==0:\n",
    "#         loss_,acc_,m_=sess.run([LOSS,ACCURACY,merge],feed_dict=feed_dict)\n",
    "#         writer_tr.add_summary(m_,i)\n",
    "#         print('epoch:{},loss:{},accuracy:{}'.format(i,loss_,acc_))\n",
    "    if i%50==0:\n",
    "        mask=np.random.choice(test_range,256,replace=False)\n",
    "        x_,y_=cumt_data['data'][mask],cumt_data['labels'][mask]\n",
    "        feed_dict={X:x_,Y:y_,DROPOUT:1.,BN_FLAG:False,LR:lr_}\n",
    "        loss_,acc_,m_=sess.run([LOSS,ACCURACY,merge],feed_dict=feed_dict)\n",
    "        writer_tr.add_summary(m_,i)\n",
    "        print('epoch:{},loss:{},accuracy:{}'.format(i,loss_,acc_))\n",
    "    if i%10==0:\n",
    "        x_,y_=val['images'],val['labels']\n",
    "        feed_dict={X:x_,Y:y_,DROPOUT:1.,BN_FLAG:False,LR:lr_}\n",
    "        loss_,acc_,m_=sess.run([LOSS,ACCURACY,merge],feed_dict=feed_dict)\n",
    "        writer_te.add_summary(m_,i)\n",
    "        if acc_>0.7:\n",
    "            m_name='./model_save/model2_'+str(int(acc_*100))+'.ckpt'\n",
    "            saver.save(sess,m_name,global_step=i)\n",
    "            lr_=max(1e-5,0.97*lr_)\n",
    "            print('Save model,epoch:{},validate accuracy:{},learning rate:{}'.format(i,acc_,lr_))\n",
    "        print('--epoch:{},loss:{},accuracy:{}'.format(i,loss_,acc_))"
   ]
  },
  {
   "cell_type": "code",
   "execution_count": null,
   "metadata": {
    "collapsed": true
   },
   "outputs": [],
   "source": [
    "#保存模型\n",
    "saver=tf.train.Saver()\n",
    "saver.save(sess,'./model_save/model.ckpt',global_step=1000)"
   ]
  },
  {
   "cell_type": "code",
   "execution_count": null,
   "metadata": {
    "collapsed": true
   },
   "outputs": [],
   "source": [
    "map_lab={ \n",
    "        '7':4,'8':3,'9':2,\n",
    "        '4':7,'5':6,'6':5,\n",
    "        '1':10,'2':9,'3':8,\n",
    "'0':1}\n",
    "         "
   ]
  },
  {
   "cell_type": "code",
   "execution_count": null,
   "metadata": {
    "collapsed": true
   },
   "outputs": [],
   "source": [
    "prob=tf.nn.softmax(y_score)"
   ]
  },
  {
   "cell_type": "code",
   "execution_count": null,
   "metadata": {
    "collapsed": true
   },
   "outputs": [],
   "source": [
    "import os\n",
    "from scipy.misc import imread\n",
    "from scipy.misc import imresize"
   ]
  },
  {
   "cell_type": "code",
   "execution_count": null,
   "metadata": {
    "collapsed": true
   },
   "outputs": [],
   "source": [
    "def getimg(addr):\n",
    "    VGG_MEAN = [103.939, 116.779, 123.68]\n",
    "    a=imread(addr)\n",
    "    plt.imshow(a)\n",
    "    plt.show()\n",
    "    b=imresize(a-VGG_MEAN,(32,128,3)).reshape((1,32,128,3))\n",
    "    return b"
   ]
  },
  {
   "cell_type": "code",
   "execution_count": null,
   "metadata": {
    "collapsed": true
   },
   "outputs": [],
   "source": [
    "img_dir=r'D:\\Proj_DL\\Code\\Proj_EyeTraker\\eye_val\\441_5.jpg'\n",
    "b=getimg(img_dir)"
   ]
  },
  {
   "cell_type": "code",
   "execution_count": null,
   "metadata": {
    "collapsed": true
   },
   "outputs": [],
   "source": [
    "p_=sess.run(prob,feed_dict={X:b,DROPOUT:1.,BN_FLAG:False,LR:1e-3})"
   ]
  },
  {
   "cell_type": "code",
   "execution_count": null,
   "metadata": {
    "collapsed": true
   },
   "outputs": [],
   "source": [
    "list(p_)"
   ]
  },
  {
   "cell_type": "code",
   "execution_count": null,
   "metadata": {
    "collapsed": true
   },
   "outputs": [],
   "source": [
    "np.argmax(p_)+1"
   ]
  },
  {
   "cell_type": "code",
   "execution_count": null,
   "metadata": {
    "collapsed": true
   },
   "outputs": [],
   "source": []
  }
 ],
 "metadata": {
  "kernelspec": {
   "display_name": "Python 3",
   "language": "python",
   "name": "python3"
  },
  "language_info": {
   "codemirror_mode": {
    "name": "ipython",
    "version": 3
   },
   "file_extension": ".py",
   "mimetype": "text/x-python",
   "name": "python",
   "nbconvert_exporter": "python",
   "pygments_lexer": "ipython3",
   "version": "3.5.3"
  }
 },
 "nbformat": 4,
 "nbformat_minor": 2
}
