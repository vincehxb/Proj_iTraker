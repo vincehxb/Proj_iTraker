{
 "cells": [
  {
   "cell_type": "code",
   "execution_count": null,
   "metadata": {
    "collapsed": true
   },
   "outputs": [],
   "source": [
    "'''\n",
    "2017年10月12日\n",
    "   完成:\n",
    "        对test.mp4视频进行训练\n",
    "        eye_img=UI.drew_face_eye(frame,minNeighbors=10,scaleFactor=1.1,minSize=(20,20))\n",
    "'''"
   ]
  },
  {
   "cell_type": "code",
   "execution_count": 1,
   "metadata": {},
   "outputs": [
    {
     "name": "stdout",
     "output_type": "stream",
     "text": [
      "Cumt_itraker Init Ready!\n"
     ]
    }
   ],
   "source": [
    "import tensorflow as tf\n",
    "import numpy as np\n",
    "from cumt_eye import Cumt_itraker\n",
    "import matplotlib.pyplot as plt\n",
    "import os\n",
    "from scipy.misc import imread\n",
    "from scipy.misc import imresize\n",
    "import UI\n",
    "import cv2\n",
    "sess=tf.InteractiveSession()\n",
    "cumt_data=np.load(r'D:\\Proj_DL\\Code\\Proj_EyeTraker\\cumt_data.pkl')\n",
    "\n",
    "\n",
    "X=tf.placeholder(shape=[None,32,128,3],dtype=tf.float32)\n",
    "Y=tf.placeholder(shape=[None,10],dtype=tf.float32)\n",
    "DROPOUT=tf.placeholder(dtype=tf.float32)\n",
    "LR=tf.placeholder(dtype=tf.float32)\n",
    "BN_FLAG=tf.placeholder(dtype=tf.bool)\n",
    "\n",
    "with tf.name_scope('model'):\n",
    "    model=Cumt_itraker(image=X,bn_flag=BN_FLAG,dropout_rate=DROPOUT)\n",
    "    y_score=model.score\n",
    "\n",
    "with tf.name_scope('LOSS'):\n",
    "    LOSS=tf.reduce_mean(tf.nn.softmax_cross_entropy_with_logits(logits=y_score,labels=Y))\n",
    "    tf.summary.scalar('loss',LOSS)\n",
    "with tf.name_scope('TRAIN'):\n",
    "    TRAIN=tf.train.AdamOptimizer(LR).minimize(LOSS)\n",
    "with tf.name_scope('ACCURACY'):\n",
    "    acc_count=tf.equal(tf.arg_max(y_score,1),tf.arg_max(Y,1))\n",
    "    ACCURACY=tf.reduce_mean(tf.cast(acc_count,tf.float32))\n",
    "    tf.summary.scalar('acc',ACCURACY)\n",
    "\n",
    "writer_tr=tf.summary.FileWriter('./mylog/test')\n",
    "writer_te=tf.summary.FileWriter('./mylog/val')\n",
    "merge=tf.summary.merge_all()\n",
    "ex_ops=tf.get_collection(tf.GraphKeys.UPDATE_OPS)\n",
    "\n"
   ]
  },
  {
   "cell_type": "code",
   "execution_count": null,
   "metadata": {
    "collapsed": true
   },
   "outputs": [],
   "source": [
    "'''\n",
    "在视频中插入判别网络\n",
    "'''"
   ]
  },
  {
   "cell_type": "code",
   "execution_count": 2,
   "metadata": {},
   "outputs": [
    {
     "name": "stdout",
     "output_type": "stream",
     "text": [
      "INFO:tensorflow:Restoring parameters from D:\\Proj_DL\\Code\\Proj_EyeTraker\\Proj_iTraker\\CUMT_iTraker\\model_save\\v2model_99.ckpt-2550\n"
     ]
    }
   ],
   "source": [
    "#从保存的检查点钟复原变量\n",
    "saver=tf.train.Saver()\n",
    "saver.restore(sess,r'D:\\Proj_DL\\Code\\Proj_EyeTraker\\Proj_iTraker\\CUMT_iTraker\\model_save\\v2model_99.ckpt-2550')\n",
    "pic_mean=[103.939, 116.779,123.68 ]"
   ]
  },
  {
   "cell_type": "code",
   "execution_count": 3,
   "metadata": {
    "collapsed": true
   },
   "outputs": [],
   "source": [
    "prob=tf.nn.softmax(y_score,name='prob')\n",
    "y_guess=tf.arg_max(prob,1)+1\n",
    "\n",
    "#预测方向到九宫格方向,\n",
    "pre2block={2:3,3:2,4:1,\n",
    "           5:6,6:5,7:4,\n",
    "           8:9,9:8,10:7}"
   ]
  },
  {
   "cell_type": "code",
   "execution_count": 4,
   "metadata": {
    "scrolled": true
   },
   "outputs": [
    {
     "name": "stdout",
     "output_type": "stream",
     "text": [
      "video end\n"
     ]
    }
   ],
   "source": [
    "cap = cv2.VideoCapture(r'demo.flv')\n",
    "#cap = cv2.VideoCapture(r'C:\\Users\\Administrator\\Downloads\\Video\\ee.flv')\n",
    "fps=cap.get(cv2.CAP_PROP_FPS)\n",
    "fsize=(int(cap.get(cv2.CAP_PROP_FRAME_WIDTH)),\n",
    "      int(cap.get(cv2.CAP_PROP_FRAME_HEIGHT)),)\n",
    "# save video\n",
    "video_saver=cv2.VideoWriter('demo13.flv',cv2.VideoWriter_fourcc('F','L','V','1'),fps,fsize)\n",
    "while (True):\n",
    "    ret,frame = cap.read()\n",
    "    if ret==True:\n",
    "        #ori 为原始图片--bgr,网络训练是用rgb训练的\n",
    "        ori_img=frame.copy()\n",
    "        #截取眼部图片\n",
    "        eye_img=UI.drew_face_eye(frame,minNeighbors=10,scaleFactor=1.1,minSize=(20,20))\n",
    "        \n",
    "        if eye_img is None:\n",
    "            #没有检测到眼睛，跳到下一帧\n",
    "            cv2.imshow('frame',ori_img)\n",
    "            video_saver.write(frame)\n",
    "            cv2.waitKey(30)\n",
    "            continue\n",
    "        #e1=imresize(eye_img,(32,128,3)).astype('float32')-mean_pic\n",
    "        e1=imresize(eye_img,(32,128,3)).astype('float32')-[123.68, 116.779, 103.939]\n",
    "        #eye_img=(eye_img-[123.68, 116.779, 103.939])[:,:,::-1]\n",
    "        #检测到眼睛，送入网络\n",
    "        #x_=imresize(eye_img,(32,128,3)).reshape((1,32,128,3))\n",
    "        x_=e1.reshape((1,32,128,3))\n",
    "        pre_asw=sess.run(y_guess,feed_dict={X:x_,DROPOUT:1.,BN_FLAG:False})[0]\n",
    "        #给图片划线，划框\n",
    "        frame=UI.drawline(frame,line_w=1)\n",
    "        #if pre_asw == 1:pre_asw=6\n",
    "        #print(pre_asw,pre2block[pre_asw])\n",
    "        if pre_asw == 1:\n",
    "            #闭眼的情况\n",
    "#             UI.drawblock(frame,1)\n",
    "#             UI.drawblock(frame,2)\n",
    "#             UI.drawblock(frame,3)\n",
    "            pass\n",
    "        else:\n",
    "            #有检测结果\n",
    "            \n",
    "            frame=UI.drawblock(frame,pre2block[pre_asw])\n",
    "            #cv2.waitKey()\n",
    "        #cv2.imshow('frame',x_.reshape((32,128,3)))\n",
    "        cv2.imshow('frame',frame)\n",
    "        video_saver.write(frame)\n",
    "        if cv2.waitKey(30)& 0xff ==ord('q'):\n",
    "            print('quite')\n",
    "            break\n",
    "    else:\n",
    "        print('video end')\n",
    "        break\n",
    "cap.release()\n",
    "video_saver.release()\n",
    "cv2.destroyAllWindows()"
   ]
  },
  {
   "cell_type": "code",
   "execution_count": null,
   "metadata": {
    "collapsed": true
   },
   "outputs": [],
   "source": []
  }
 ],
 "metadata": {
  "kernelspec": {
   "display_name": "Python 3",
   "language": "python",
   "name": "python3"
  },
  "language_info": {
   "codemirror_mode": {
    "name": "ipython",
    "version": 3
   },
   "file_extension": ".py",
   "mimetype": "text/x-python",
   "name": "python",
   "nbconvert_exporter": "python",
   "pygments_lexer": "ipython3",
   "version": "3.5.0"
  }
 },
 "nbformat": 4,
 "nbformat_minor": 2
}
