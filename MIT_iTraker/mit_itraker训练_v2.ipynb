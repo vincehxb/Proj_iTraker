{
 "cells": [
  {
   "cell_type": "code",
   "execution_count": null,
   "metadata": {
    "collapsed": true
   },
   "outputs": [],
   "source": [
    "'''\n",
    "version 2\n",
    "去除 face mask\n",
    "'''"
   ]
  },
  {
   "cell_type": "code",
   "execution_count": null,
   "metadata": {
    "collapsed": true
   },
   "outputs": [],
   "source": [
    "import tensorflow as tf\n",
    "import os\n",
    "import numpy as np\n",
    "from mit_eye_v2 import mit_itraker\n",
    "import time\n",
    "sess=tf.InteractiveSession()"
   ]
  },
  {
   "cell_type": "code",
   "execution_count": null,
   "metadata": {
    "collapsed": true
   },
   "outputs": [],
   "source": [
    "with tf.name_scope('PlaceHolder'):\n",
    "    LeftEye=tf.placeholder(tf.float32,[None,64,64,3],name='LeftEye')\n",
    "    RightEye=tf.placeholder(tf.float32,[None,64,64,3],'RightEye')\n",
    "    FaceOri=tf.placeholder(tf.float32,[None,64,64,3],'FaceOri')\n",
    "    #FaceMask=tf.placeholder(tf.float32,[None,25,25],'FaceMask')\n",
    "    Y=tf.placeholder(tf.float32,[None,2],name='Y')\n",
    "    LR=tf.placeholder(tf.float32,name='Learning_rate')\n",
    "    REG_RATE=tf.placeholder(tf.float32,name='Reg_rate')\n",
    "    DROPOUT=tf.placeholder(tf.float32,name='DropOut_rate')\n",
    "    BN_FLAG=tf.placeholder(tf.bool,name='BatchNormalizeFlag')"
   ]
  },
  {
   "cell_type": "code",
   "execution_count": null,
   "metadata": {},
   "outputs": [],
   "source": [
    "with tf.name_scope('MIT_Model'):\n",
    "    model=mit_itraker(r'D:\\Data warehouse\\Face_Picture\\eye_tracker_train_and_val',left_eye=LeftEye,right_eye=RightEye,face_ori=FaceOri,\\\n",
    "                      dropout=DROPOUT,bn_train=BN_FLAG,reg_rate=REG_RATE)\n",
    "    y_pre=model.coordinate"
   ]
  },
  {
   "cell_type": "code",
   "execution_count": null,
   "metadata": {
    "collapsed": true
   },
   "outputs": [],
   "source": [
    "with tf.name_scope('LOSS'):\n",
    "    Loss=(tf.losses.mean_squared_error(Y,y_pre))+tf.add_n(tf.get_collection('loss_w'))\n",
    "    tf.summary.scalar('loss',Loss)\n",
    "    ERR=tf.reduce_mean(tf.sqrt(tf.reduce_sum(tf.squared_difference(y_pre, Y), axis=1)))\n",
    "    tf.summary.scalar('err',ERR)\n",
    "with tf.name_scope('Trainer'):\n",
    "    Trainer=tf.train.AdamOptimizer(LR).minimize(Loss)\n",
    "\n",
    "with tf.name_scope('Logger'):\n",
    "    init=tf.global_variables_initializer()\n",
    "\n",
    "    writer_tr=tf.summary.FileWriter('./mylog/train_nofg',sess.graph)\n",
    "    writer_te=tf.summary.FileWriter('./mylog/val_nofg')\n",
    "    merge=tf.summary.merge_all()"
   ]
  },
  {
   "cell_type": "code",
   "execution_count": null,
   "metadata": {},
   "outputs": [],
   "source": [
    "data=model.data\n",
    "bn_ops=tf.get_collection(tf.GraphKeys.UPDATE_OPS)\n",
    "'''\n",
    "['val_face', 'train_eye_left', 'train_y', 'train_eye_right', 'val_y', 'train_face_mask', 'train_face',\n",
    "'val_eye_right', 'val_face_mask', 'val_eye_left']\n",
    "'''"
   ]
  },
  {
   "cell_type": "code",
   "execution_count": null,
   "metadata": {
    "collapsed": true
   },
   "outputs": [],
   "source": [
    "#重新训练\n",
    "sess.run(init)\n",
    "saver=tf.train.Saver()"
   ]
  },
  {
   "cell_type": "code",
   "execution_count": null,
   "metadata": {
    "collapsed": true
   },
   "outputs": [],
   "source": [
    "#加载保存的模型，继续训练\n",
    "saver=tf.train.Saver()\n",
    "#saver=tf.train.Saver()\n",
    "saver.restore(sess,'./model_save/model_mit/model_err106.ckpt-44270')"
   ]
  },
  {
   "cell_type": "code",
   "execution_count": null,
   "metadata": {
    "scrolled": true
   },
   "outputs": [],
   "source": [
    "#130 个loop用时1分钟 无BN,dropout\n",
    "#5000 个loop用时1h 有BN,dropout\n",
    "batch_size=128\n",
    "dp_=0.5\n",
    "lr_=1e-3\n",
    "rg_rate_=1e-4\n",
    "s_time=time.time()\n",
    "best_val_err=100\n",
    "err_delta=0.05\n",
    "for i_ in range(5000*15):\n",
    "    mask=np.random.choice(range(48000),batch_size,replace=False)\n",
    "    face_=data['train_face'][mask]\n",
    "    left_eye_,right_eye_=data['train_eye_left'][mask],data['train_eye_right'][mask]\n",
    "    y_=data['train_y'][mask]\n",
    "    feed_dict={LeftEye:left_eye_,  RightEye:right_eye_,  FaceOri:face_,  \\\n",
    "              Y:y_,LR:lr_,  DROPOUT:dp_,  BN_FLAG:True,  REG_RATE:rg_rate_}\n",
    "    sess.run([Trainer,bn_ops],feed_dict=feed_dict)\n",
    "    if i_%5==0:\n",
    "        feed_dict={LeftEye:left_eye_,RightEye:right_eye_,FaceOri:face_,\\\n",
    "              Y:y_,LR:lr_,DROPOUT:1.,BN_FLAG:False,REG_RATE:rg_rate_}\n",
    "        loss_,m_,_=sess.run([Loss,merge,bn_ops],feed_dict=feed_dict)\n",
    "        writer_tr.add_summary(m_,i_)\n",
    "        #print('epoch:{},loss:{}'.format(i_,loss_))\n",
    "    if i_%10==0:\n",
    "        mask=np.random.choice(range(5000),batch_size,replace=False)\n",
    "        face_=data['val_face'][mask]\n",
    "        left_eye_,right_eye_=data['val_eye_left'][mask],data['val_eye_right'][mask]\n",
    "        y_=data['val_y'][mask]\n",
    "        feed_dict={LeftEye:left_eye_,RightEye:right_eye_,FaceOri:face_,\\\n",
    "                  Y:y_,LR:lr_,DROPOUT:1.,BN_FLAG:False,REG_RATE:rg_rate_}\n",
    "        loss_,err_,m_,_=sess.run([Loss,ERR,merge,bn_ops],feed_dict=feed_dict)\n",
    "        writer_te.add_summary(m_,i_)\n",
    "        print('--epoch:{},loss:{},error:{}'.format(i_,loss_,err_))\n",
    "        #保存模型\n",
    "        if err_<1.9:\n",
    "            if err_+err_delta<best_val_err:\n",
    "                best_val_err=err_\n",
    "                err_val=str(int(err_*100))\n",
    "                saver.save(sess,'./model_save/model_mit/model_err'+err_val+'.ckpt',global_step=i_)\n",
    "                print('@@@epoch:{},best err:{},model save'.format(i_,best_val_err))\n",
    "    if i_%(5000)==0:\n",
    "        lr_=max(1e-5,lr_*0.9)\n",
    "        print(\"**epoch:{},lr:{}\".format(i_,lr_))\n",
    "e_time=time.time()\n",
    "run_time=e_time-s_time\n",
    "print('Trainning Time:{:.0f} h,{:.0f} min,{:.2f} sec'.format(run_time//3600,(run_time%3600)//60,run_time%60))\n"
   ]
  },
  {
   "cell_type": "code",
   "execution_count": null,
   "metadata": {
    "collapsed": true
   },
   "outputs": [],
   "source": [
    "#i_ 53999"
   ]
  },
  {
   "cell_type": "code",
   "execution_count": null,
   "metadata": {
    "collapsed": true
   },
   "outputs": [],
   "source": [
    "#run_time=time.time()-s_time\n",
    "print('Trainning Time:{:.0f} h,{:.0f} min,{:.2f} sec'.format(run_time//3600,(run_time%3600)//60,run_time%60))"
   ]
  },
  {
   "cell_type": "code",
   "execution_count": null,
   "metadata": {
    "collapsed": true,
    "scrolled": true
   },
   "outputs": [],
   "source": [
    "#保存模型\n",
    "saver=tf.train.Saver()\n",
    "saver.save(sess,'./model_save/model_err17.ckpt',global_step=130*60*3)"
   ]
  },
  {
   "cell_type": "code",
   "execution_count": null,
   "metadata": {
    "collapsed": true
   },
   "outputs": [],
   "source": [
    "#加载模型\n",
    "saver=tf.train.Saver()\n",
    "saver.restore(sess,'./model_save/model_mit/model_err106.ckpt-44270')"
   ]
  },
  {
   "cell_type": "code",
   "execution_count": null,
   "metadata": {
    "collapsed": true
   },
   "outputs": [],
   "source": [
    "batch_size=128\n",
    "mask=np.random.choice(range(5000),batch_size,replace=False)\n",
    "face_,face_mask_=data['val_face'][mask],data['val_face_mask'][mask]\n",
    "left_eye_,right_eye_=data['val_eye_left'][mask],data['val_eye_right'][mask]\n",
    "y_=data['val_y'][mask]\n",
    "feed_dict={LeftEye:left_eye_,RightEye:right_eye_,FaceOri:face_,FaceMask:face_mask_,\\\n",
    "          Y:y_,LR:1e-3}\n",
    "loss_,m_=sess.run([Loss,merge],feed_dict=feed_dict)"
   ]
  },
  {
   "cell_type": "code",
   "execution_count": null,
   "metadata": {
    "collapsed": true
   },
   "outputs": [],
   "source": [
    "data={}\n",
    "mean_val=[]\n",
    "file_addr=r'D:\\Data warehouse\\Face_Picture\\eye_tracker_train_and_val'\n",
    "for i in [ 'val_y.npy',\n",
    "          'val_eye_left.npy',\n",
    "          'val_eye_right.npy',\n",
    "          'val_face.npy',\n",
    "          'val_face_mask.npy',\n",
    "          'train_y.npy']:\n",
    "    d_=np.load(os.path.join(file_addr,i))\n",
    "    ori_shape=d_.shape\n",
    "    d_=d_.reshape(ori_shape[0],-1).astype('float32')\n",
    "    if i[-5] !='y':\n",
    "        #使得所有值小于 1\n",
    "        d_/=255.0\n",
    "        #使得均值为0\n",
    "        mean_=np.mean(d_,axis=0)\n",
    "        d_-=mean_\n",
    "        mean_val.append(mean_)\n",
    "    data[i[:-4]]=d_.reshape(ori_shape)\n",
    "print('Load Data Done~')"
   ]
  },
  {
   "cell_type": "code",
   "execution_count": null,
   "metadata": {
    "collapsed": true
   },
   "outputs": [],
   "source": [
    "data['train_y'].shape"
   ]
  },
  {
   "cell_type": "code",
   "execution_count": null,
   "metadata": {
    "collapsed": true
   },
   "outputs": [],
   "source": [
    "np.min(data['val_y'][:,0]),np.min(data['val_y'][:,1])"
   ]
  },
  {
   "cell_type": "code",
   "execution_count": null,
   "metadata": {
    "collapsed": true
   },
   "outputs": [],
   "source": [
    "np.max(data['val_y'][:,0]),np.max(data['val_y'][:,1])"
   ]
  },
  {
   "cell_type": "code",
   "execution_count": null,
   "metadata": {
    "collapsed": true
   },
   "outputs": [],
   "source": [
    "import matplotlib.pyplot as plt"
   ]
  },
  {
   "cell_type": "code",
   "execution_count": null,
   "metadata": {
    "collapsed": true,
    "scrolled": false
   },
   "outputs": [],
   "source": [
    "plt.figure(figsize=(8,5), dpi=380)\n",
    "plt.scatter(data['train_y'][:,0],data['train_y'][:,1],1,label='train',c=np.arctan2(data['train_y'][:,1],data['train_y'][:,0]))\n",
    "plt.scatter(data['val_y'][:,0],data['val_y'][:,1],5,label='val',c=np.arctan2(data['val_y'][:,1],data['val_y'][:,0]))\n",
    "plt.legend()\n",
    "plt.plot()\n",
    "plt.show()"
   ]
  },
  {
   "cell_type": "code",
   "execution_count": null,
   "metadata": {
    "collapsed": true
   },
   "outputs": [],
   "source": []
  }
 ],
 "metadata": {
  "kernelspec": {
   "display_name": "Python 3",
   "language": "python",
   "name": "python3"
  },
  "language_info": {
   "codemirror_mode": {
    "name": "ipython",
    "version": 3
   },
   "file_extension": ".py",
   "mimetype": "text/x-python",
   "name": "python",
   "nbconvert_exporter": "python",
   "pygments_lexer": "ipython3",
   "version": "3.5.0"
  }
 },
 "nbformat": 4,
 "nbformat_minor": 2
}
