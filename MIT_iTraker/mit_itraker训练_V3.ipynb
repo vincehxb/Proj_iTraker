{
 "cells": [
  {
   "cell_type": "code",
   "execution_count": null,
   "metadata": {
    "collapsed": true
   },
   "outputs": [],
   "source": [
    "'''\n",
    "2017年10月19日09:33:46\n",
    "    versi 2：\n",
    "        1.去除FASK MASK\n",
    "        2.读取MIT数据上预训练的模型，在现实环境中捕获多张图片进行校准\n",
    "        3.此文件不一定能够运行，可能需要一些修改\n",
    "    问题：\n",
    "        1.输出为 （X,Y），在测试中表现不好。打算将回归问题改成分类问题，预测现在注视哪一个小方格，\n",
    "        问题是预训练模型不支持直接在FC1层中接出一个分类层，所以舍弃 version 2.将预训练模型中的所有（除BN层）外的权值\n",
    "        保存下来到npy文件中，用类似VGG中直接加载权值的方法来实现\n",
    "'''"
   ]
  },
  {
   "cell_type": "code",
   "execution_count": null,
   "metadata": {
    "collapsed": true
   },
   "outputs": [],
   "source": [
    "/***************************************************************************/\n",
    "提取MIT数据预训练模型的权值\n",
    "/***************************************************************************/"
   ]
  },
  {
   "cell_type": "code",
   "execution_count": null,
   "metadata": {
    "collapsed": true
   },
   "outputs": [],
   "source": [
    "import tensorflow as tf\n",
    "import os\n",
    "import numpy as np\n",
    "from mit_eye_v3 import mit_itraker\n",
    "import time\n",
    "sess=tf.InteractiveSession()"
   ]
  },
  {
   "cell_type": "code",
   "execution_count": null,
   "metadata": {
    "collapsed": true
   },
   "outputs": [],
   "source": [
    "#回归问题与分类问题的 y的形状不一样\n",
    "with tf.name_scope('PlaceHolder'):\n",
    "    LeftEye=tf.placeholder(tf.float32,[None,64,64,3],name='LeftEye')\n",
    "    RightEye=tf.placeholder(tf.float32,[None,64,64,3],'RightEye')\n",
    "    FaceOri=tf.placeholder(tf.float32,[None,64,64,3],'FaceOri')\n",
    "    #********************** 回归为 2\n",
    "    Y=tf.placeholder(tf.float32,[None,16],name='Y')\n",
    "    #********************** 分类为 C\n",
    "    LR=tf.placeholder(tf.float32,name='Learning_rate')\n",
    "    REG_RATE=tf.placeholder(tf.float32,name='Reg_rate')\n",
    "    DROPOUT=tf.placeholder(tf.float32,name='DropOut_rate')\n",
    "    BN_FLAG=tf.placeholder(tf.bool,name='BatchNormalizeFlag')"
   ]
  },
  {
   "cell_type": "code",
   "execution_count": null,
   "metadata": {},
   "outputs": [],
   "source": [
    "with tf.name_scope('MIT_Model'):\n",
    "    model=mit_itraker(r'D:\\Data warehouse\\Face_Picture\\eye_tracker_train_and_val',left_eye=LeftEye,right_eye=RightEye,face_ori=FaceOri,\\\n",
    "                      dropout=DROPOUT,sess=sess,reg_rate=REG_RATE,load_trainimg=False,weight_fileaddr='mitweight_dumpbn.pkl')\n",
    "    y_pre=model.score\n",
    "#     model=mit_itraker(r'D:\\Data warehouse\\Face_Picture\\eye_tracker_train_and_val',left_eye=LeftEye,right_eye=RightEye,face_ori=FaceOri,\\\n",
    "#                       dropout=DROPOUT,bn_train=BN_FLAG,reg_rate=REG_RATE,load_trainimg=False)\n",
    "    "
   ]
  },
  {
   "cell_type": "code",
   "execution_count": null,
   "metadata": {
    "collapsed": true
   },
   "outputs": [],
   "source": [
    "#saver=tf.train.Saver()\n",
    "\n",
    "#校准后的模型\n",
    "# saver.restore(sess,'./model_save/model_mit/model_err112.ckpt-50030')\n",
    "# mit_weightdict={}\n",
    "# tf.trainable_variables()\n",
    "# layer_name='FC_2'\n",
    "# with tf.variable_scope('FC_Concate',reuse=True):\n",
    "#     w=tf.get_variable(layer_name+r'/weight')\n",
    "#     w_=w.eval()\n",
    "#     b=tf.get_variable(layer_name+r'/biases')\n",
    "#     b_=b.eval()\n",
    "# mit_weightdict[layer_name]={}\n",
    "# mit_weightdict[layer_name]['weight']=w_\n",
    "# mit_weightdict[layer_name]['biases']=b_\n",
    "# fp=open('mitweight_dumpbn.pkl','wb')\n",
    "# pickle.dump(obj=mit_weightdict,file=fp)\n",
    "# fp.close()"
   ]
  },
  {
   "cell_type": "code",
   "execution_count": null,
   "metadata": {
    "collapsed": true
   },
   "outputs": [],
   "source": [
    "#分类问题\n",
    "with tf.name_scope('LOSS'):\n",
    "    Loss=tf.reduce_mean(tf.nn.softmax_cross_entropy_with_logits(labels=Y,logits=y_pre))\\\n",
    "    +tf.add_n(tf.get_collection('loss_w'))\n",
    "    tf.summary.scalar('loss',Loss)\n",
    "    ACC_C=tf.equal(tf.arg_max(Y,1),tf.arg_max(y_pre,1))\n",
    "    ACCURACY=tf.reduce_mean(tf.cast(ACC_C,tf.float32))\n",
    "    tf.summary.scalar('acc',ACCURACY)\n",
    "with tf.name_scope('Trainer'):\n",
    "    Trainer=tf.train.AdamOptimizer(LR).minimize(Loss)\n",
    "\n",
    "with tf.name_scope('Logger'):\n",
    "    init=tf.global_variables_initializer()\n",
    "\n",
    "    writer_tr=tf.summary.FileWriter('./mylog/train_nofg_cal_clssify_10kconv3_2',sess.graph)\n",
    "    writer_te=tf.summary.FileWriter('./mylog/val_nofg_cal_clssify_10kconv3_2')\n",
    "    merge=tf.summary.merge_all()"
   ]
  },
  {
   "cell_type": "code",
   "execution_count": null,
   "metadata": {
    "collapsed": true
   },
   "outputs": [],
   "source": [
    "cla_data_val=np.load('caldata_1018.pkl')\n",
    "cla_data_tr=np.load('caldata10000_1019.pkl')"
   ]
  },
  {
   "cell_type": "code",
   "execution_count": null,
   "metadata": {},
   "outputs": [],
   "source": [
    "cal_le=np.vstack((cla_data_tr['left_eye'],cla_data_val['left_eye']))\n",
    "cal_re=np.vstack((cla_data_tr['right_eye'],cla_data_val['right_eye']))\n",
    "cal_fa=np.vstack((cla_data_tr['face'],cla_data_val['face']))\n",
    "cal_y=np.vstack((cla_data_tr['y'],cla_data_val['y']))"
   ]
  },
  {
   "cell_type": "code",
   "execution_count": null,
   "metadata": {
    "collapsed": true
   },
   "outputs": [],
   "source": [
    "index=np.arange(cal_y.shape[0])\n",
    "np.random.shuffle(index)\n",
    "tr_index=index[:int(index.shape[0]*0.8)]\n",
    "te_index=index[int(index.shape[0]*0.8):]\n",
    "val_left_eye,val_right_eye,val_face_matrix,val_y_cordinate=\\\n",
    "cal_le[te_index],cal_re[te_index],cal_fa[te_index],cal_y[te_index]\n",
    "tr_left_eye,tr_right_eye,tr_face_matrix,tr_y_cordinate=\\\n",
    "cal_le[tr_index],cal_re[tr_index],cal_fa[tr_index],cal_y[tr_index]\n"
   ]
  },
  {
   "cell_type": "code",
   "execution_count": null,
   "metadata": {},
   "outputs": [],
   "source": [
    "tr_left_eye.shape,val_left_eye.shape"
   ]
  },
  {
   "cell_type": "code",
   "execution_count": null,
   "metadata": {},
   "outputs": [],
   "source": [
    "model._initweight()"
   ]
  },
  {
   "cell_type": "code",
   "execution_count": null,
   "metadata": {
    "collapsed": true
   },
   "outputs": [],
   "source": [
    "saver=tf.train.Saver()\n",
    "\n",
    "#校准后的模型\n",
    "saver.restore(sess,'./model_save/model_mit_cal_1017/model_conv310192042.ckpt-23708')"
   ]
  },
  {
   "cell_type": "code",
   "execution_count": null,
   "metadata": {
    "scrolled": true
   },
   "outputs": [],
   "source": [
    "#130 个loop用时1分钟 无BN,dropout\n",
    "#5000 个loop用时1h 有BN,dropout\n",
    "batch_size=128\n",
    "dp_=0.5\n",
    "lr_=1e-3\n",
    "rg_rate_=1e-4\n",
    "s_time=time.time()\n",
    "best_val_err=100\n",
    "err_delta=0.05\n",
    "for i_ in range(6850,1000*1000000000):\n",
    "    mask=np.random.choice(range(tr_left_eye.shape[0]),batch_size,replace=False)\n",
    "    face_=tr_face_matrix[mask]\n",
    "    left_eye_,right_eye_=tr_left_eye[mask],tr_right_eye[mask]\n",
    "    y_=tr_y_cordinate[mask]\n",
    "    \n",
    "    feed_dict={LeftEye:left_eye_,  RightEye:right_eye_,  FaceOri:face_,  \\\n",
    "              Y:y_,LR:lr_,  DROPOUT:dp_, REG_RATE:rg_rate_}\n",
    "    sess.run([Trainer],feed_dict=feed_dict)\n",
    "    if i_%5==0:\n",
    "        feed_dict={LeftEye:left_eye_,RightEye:right_eye_,FaceOri:face_,\\\n",
    "              Y:y_,LR:lr_,DROPOUT:1.,REG_RATE:rg_rate_}\n",
    "        loss_,acc_,m_=sess.run([Loss,ACCURACY,merge],feed_dict=feed_dict)\n",
    "        writer_tr.add_summary(m_,i_)\n",
    "        print('epoch:{},loss:{},accuracy:{}'.format(i_,loss_,acc_))\n",
    "    if i_%10==0:\n",
    "        mask=np.random.choice(range(val_left_eye.shape[0]),batch_size,replace=False)\n",
    "        face_=val_face_matrix[mask]\n",
    "        left_eye_,right_eye_=val_left_eye[mask],val_right_eye[mask]\n",
    "        y_=val_y_cordinate[mask]\n",
    "        feed_dict={LeftEye:left_eye_,RightEye:right_eye_,FaceOri:face_,\\\n",
    "                  Y:y_,LR:lr_,DROPOUT:1.,REG_RATE:rg_rate_}\n",
    "        loss_,acc_,m_=sess.run([Loss,ACCURACY,merge],feed_dict=feed_dict)\n",
    "        writer_te.add_summary(m_,i_)\n",
    "        print('--epoch:{},loss:{},error:{}'.format(i_,loss_,acc_))\n",
    "        #保存模型\n",
    "#         if err_<0:\n",
    "#             if err_+err_delta<best_val_err:\n",
    "#                 best_val_err=err_\n",
    "#                 err_val=str(int(err_*100))\n",
    "#                 saver.save(sess,'./model_save/model_mit/model_err'+err_val+'.ckpt',global_step=i_)\n",
    "#                 print('@@@epoch:{},best err:{},model save'.format(i_,best_val_err))\n",
    "#     if i_%(5000)==0:\n",
    "#         lr_=max(1e-5,lr_*0.9)\n",
    "#         print(\"**epoch:{},lr:{}\".format(i_,lr_))\n",
    "e_time=time.time()\n",
    "run_time=e_time-s_time\n",
    "print('Trainning Time:{:.0f} h,{:.0f} min,{:.2f} sec'.format(run_time//3600,(run_time%3600)//60,run_time%60))\n"
   ]
  },
  {
   "cell_type": "code",
   "execution_count": null,
   "metadata": {},
   "outputs": [],
   "source": [
    "saver=tf.train.Saver()\n",
    "saver.save(sess,'./model_save/model_mit_cal_1017/model_conv1_10k'+'.ckpt',global_step=i_)"
   ]
  },
  {
   "cell_type": "code",
   "execution_count": null,
   "metadata": {
    "collapsed": true
   },
   "outputs": [],
   "source": [
    "/*********************************************************************************/\n",
    "#测试运行效果\n",
    "/*********************************************************************************/"
   ]
  },
  {
   "cell_type": "code",
   "execution_count": null,
   "metadata": {
    "collapsed": true
   },
   "outputs": [],
   "source": [
    "def drawline(img_,line_w=1,line_color=(0,0,0),wandh_num=4):\n",
    "        '''\n",
    "        在图片上格子\n",
    "        :param line_w: 线宽\n",
    "        :param line_color: 线颜色\n",
    "        :param wandh_num:  长宽线的数量\n",
    "        :return:  无\n",
    "        '''\n",
    "        h,w=img_.shape[0],img_.shape[1]\n",
    "        w_num,h_num=wandh_num,wandh_num\n",
    "        h_,w_=h//h_num,w//w_num\n",
    "\n",
    "        # 竖线 (w,h)\n",
    "        for i in range(1,w_num):\n",
    "            #print(i)\n",
    "            cv2.line(img_,(w_*i,0),(w_*i,h),line_color,line_w)\n",
    "        # 横线\n",
    "        for i in range(1,h_num):\n",
    "            cv2.line(img_,(0,h_*i),(w,h_*i),line_color,line_w)\n",
    "        return img_\n",
    "# def drawblock(img,block_id=(3,3),blockcolor=(210,240,50),blockwideth=5,wandh_num=4):\n",
    "#         '''\n",
    "#         选定九宫格，在这个格子上填充矩形表示选定这个格子\n",
    "#         :param img_: 图片\n",
    "#         :param block: 九宫格序号\n",
    "#         :param blockcolor: 矩形框颜色\n",
    "#         :param blockwideth: 框的宽度\n",
    "#         :return:\n",
    "#         '''\n",
    "#         h,w=img.shape[0],img.shape[1]\n",
    "#         w_line,h_line=wandh_num,wandh_num\n",
    "#         h_,w_=h//h_line,w//w_line\n",
    "#         sx,sy=block_id[0]*w_,block_id[1]*h_\n",
    "\n",
    "#         #将整个矩形填充为其他颜色\n",
    "#         img[sy:sy+h_,sx:sx+w_,:]=blockcolor\n",
    "#         #在矩形中心画一个小圆辅助\n",
    "#         roi_=img[sy:sy+h_,sx:sx+w_]\n",
    "#         cv2.circle(roi_,(roi_.shape[1]//2,roi_.shape[0]//2), 10, (130,230,220), -1)\n",
    "\n",
    "#         #只是在矩形边缘画框\n",
    "#         #cv2.rectangle(img_,(sx,sy),(sx+w_,sy+h_),blockcolor,blockwideth)\n",
    "#         return img\n",
    "def drew_face_eye(img):\n",
    "        '''\n",
    "        检测用户当前环境是否能够比较好的识别面部特征\n",
    "        辨识出脸部以及眼部，标记出来\n",
    "        :param img:\n",
    "        :return:\n",
    "        '''\n",
    "        face_cascade = cv2.CascadeClassifier(r'D:\\Proj_DL\\Code\\Proj_EyeTraker\\haarcascade_frontalface_default.xml')\n",
    "        eye_cascade = cv2.CascadeClassifier(r'D:\\Proj_DL\\Code\\Proj_EyeTraker\\haarcascade_eye.xml')\n",
    "        gray = cv2.cvtColor(img, cv2.COLOR_BGR2GRAY)\n",
    "        faces = face_cascade.detectMultiScale(gray, 1.3,5)\n",
    "        #确保画面中只有一个人脸识别出来\n",
    "        if(len(faces)!=1):\n",
    "            return None\n",
    "        for (x,y,w,h) in faces:\n",
    "            cv2.rectangle(img,(x-10,y-10),(x+w+10,y+h+10),(255,0,0),2)\n",
    "            roi_gray = gray[y:y+h, x:x+w]\n",
    "            roi_color = img[y:y+h, x:x+w]\n",
    "            #保存脸部图像\n",
    "            face_mat=roi_color.copy()\n",
    "            #检测视频中脸部的眼睛，并用vector保存眼睛的坐标、大小（用矩形表示）\n",
    "            eyes = eye_cascade.detectMultiScale(roi_gray,scaleFactor=1.1, minNeighbors=5, minSize=(27, 27),\n",
    "                                                flags=cv2.CASCADE_SCALE_IMAGE)\n",
    "            if len(eyes)!= 2:\n",
    "                return None\n",
    "            eye_mat=[]\n",
    "            for e in eyes:\n",
    "                xe,ye,we,he=e\n",
    "                eye_mat.append(face_mat[ye:ye+he,xe:xe+we])\n",
    "                cv2.rectangle(roi_color,(xe-3,ye-3),(xe+we+3,ye+he+3),(0,0,255),2)\n",
    "        return  (img,face_mat,eye_mat)\n",
    "def drawblock(img,line_num,block_id=0,blockcolor=(46,218,255),blockwideth=5):\n",
    "        '''\n",
    "        选定九宫格，在这个格子上填充矩形表示选定这个格子\n",
    "        :param img_: 图片\n",
    "        :param block: 九宫格序号\n",
    "        :param blockcolor: 矩形框颜色\n",
    "        :param blockwideth: 框的宽度\n",
    "        :return:\n",
    "        '''\n",
    "        h,w=img.shape[0],img.shape[1]\n",
    "        w_line,h_line=line_num,line_num\n",
    "        h_,w_=h//h_line,w//w_line\n",
    "        cor_h=block_id//line_num\n",
    "        cor_w=block_id%line_num\n",
    "        sx,sy=cor_w*w_,cor_h*h_\n",
    "\n",
    "        #将整个矩形填充为其他颜色\n",
    "        img[sy:sy+h_,sx:sx+w_,:]=blockcolor\n",
    "#         roi_=img[sy:sy+h_,sx:sx+w_]\n",
    "#         cv2.circle(roi_,(roi_.shape[1]//2,roi_.shape[0]//2), 10, (46,218,255), -1)\n",
    "       \n",
    "        return img"
   ]
  },
  {
   "cell_type": "code",
   "execution_count": null,
   "metadata": {
    "collapsed": true
   },
   "outputs": [],
   "source": [
    "import cv2\n",
    "import time"
   ]
  },
  {
   "cell_type": "code",
   "execution_count": null,
   "metadata": {
    "collapsed": true
   },
   "outputs": [],
   "source": [
    "tar_img=cv2.imread('test.jpg')\n",
    "tar_img=drawline(tar_img,wandh_num=4)\n",
    "tar_img=drawblock(tar_img,line_num=4,block_id=6)\n",
    "cap=cv2.VideoCapture(0)\n",
    "_,frame=cap.read()\n",
    "cap.release()\n",
    "v_test=tar_img.copy()\n",
    "tar_img[:480,1280:]=frame"
   ]
  },
  {
   "cell_type": "code",
   "execution_count": null,
   "metadata": {
    "collapsed": true
   },
   "outputs": [],
   "source": [
    "cv2.namedWindow('Capture001',cv2.WINDOW_NORMAL)\n",
    "cv2.setWindowProperty('Capture001', cv2.WND_PROP_FULLSCREEN, cv2.WINDOW_FULLSCREEN)\n",
    "cv2.imshow('Capture001',tar_img)\n",
    "cv2.waitKey()\n",
    "cv2.destroyWindow('Capture001')"
   ]
  },
  {
   "cell_type": "code",
   "execution_count": null,
   "metadata": {},
   "outputs": [],
   "source": [
    "fps=10\n",
    "#fsize_people=(640,480)\n",
    "fsize_desk=(1920,1080)\n",
    "# save video\n",
    "#video_p=cv2.VideoWriter('demo_people.flv',cv2.VideoWriter_fourcc('F','L','V','1'),fps,fsize_people)\n",
    "video_d=cv2.VideoWriter('demo_desk.flv',cv2.VideoWriter_fourcc('F','L','V','1'),fps,fsize_desk)\n",
    "mean_left_eye=cla_data_tr['mean_left_eye']\n",
    "mean_right_eye=cla_data_tr['mean_right_eye']\n",
    "mean_face_matrix=cla_data_tr['mean_face']"
   ]
  },
  {
   "cell_type": "code",
   "execution_count": null,
   "metadata": {
    "collapsed": true
   },
   "outputs": [],
   "source": [
    "prob=tf.nn.softmax(y_pre)\n",
    "guess=tf.arg_max(prob,1)"
   ]
  },
  {
   "cell_type": "code",
   "execution_count": null,
   "metadata": {
    "scrolled": true
   },
   "outputs": [],
   "source": [
    "video_d=cv2.VideoWriter('demo_desk2.flv',cv2.VideoWriter_fourcc('F','L','V','1'),fps,fsize_desk)\n",
    "#%debug\n",
    "cap=cv2.VideoCapture(0)\n",
    "s_time=time.time()\n",
    "tar_img=cv2.imread('test.jpg')\n",
    "#设置window 为全屏\n",
    "cv2.namedWindow('Capture001',cv2.WINDOW_NORMAL)\n",
    "cv2.setWindowProperty('Capture001', cv2.WND_PROP_FULLSCREEN, cv2.WINDOW_FULLSCREEN)\n",
    "#每16帧输出一个最常见结果\n",
    "frame_counter=0\n",
    "frame_counter_dict={}\n",
    "block_16id=0\n",
    "while True:\n",
    "    ret,fram=cap.read()\n",
    "    if ret:\n",
    "        #显示 内窥镜图像\n",
    "        tar_img=cv2.imread('test.jpg')\n",
    "        tar_img=drawline(tar_img,wandh_num=4)\n",
    "        cv2.imshow('Capture001',tar_img)\n",
    "       \n",
    "        #预测注视方向\n",
    "        face_op=drew_face_eye(fram)\n",
    "        if face_op == None:\n",
    "            continue\n",
    "        img_,f,e=face_op\n",
    "        #需要 输入均值为 0 ，方差为 1\n",
    "        left_eye_=(cv2.resize(e[0],(64,64))-mean_left_eye).reshape((1,64,64,3))\n",
    "        right_eye_=(cv2.resize(e[1],(64,64))-mean_right_eye).reshape((1,64,64,3))\n",
    "        face_=(cv2.resize(f,(64,64))-mean_face_matrix).reshape((1,64,64,3))\n",
    "        \n",
    "        feed_dict={LeftEye:left_eye_/255.,RightEye:right_eye_/255.,FaceOri:face_/255.,\\\n",
    "                 DROPOUT:1.}\n",
    "        prob_=sess.run(prob,feed_dict=feed_dict)\n",
    "        prob_=np.argsort(prob_,1)[0][-3:]\n",
    "        a1,a2,a3=prob_[0],prob_[1],prob_[2]\n",
    "        #print(a1,a2,a3)\n",
    "        #print(prob_)\n",
    "        #统计最多次出现的方向\n",
    "        frame_counter+=1\n",
    "        frame_counter_dict[a1]=frame_counter_dict.get(a1,0)+1\n",
    "        if frame_counter==5:\n",
    "            frame_counter=0\n",
    "            max_count=0\n",
    "            for k in frame_counter_dict:\n",
    "                if frame_counter_dict[k]>max_count:\n",
    "                    block_16id=k\n",
    "                    max_count=frame_counter_dict[k]\n",
    "                #print(block_16id,frame_counter_dict[block_16id])\n",
    "            frame_counter_dict={}\n",
    "        #print(guess_[0])\n",
    "        #显示预测方向\n",
    "        tar_img=drawblock(tar_img,line_num=4,block_id=block_16id)\n",
    "#         tar_img=drawblock(tar_img,line_num=4,block_id=a2)\n",
    "#         tar_img=drawblock(tar_img,line_num=4,block_id=a3)\n",
    "        v_img=tar_img.copy()\n",
    "        v_img[:480,1280:]=fram\n",
    "        cv2.imshow('Capture001',v_img)\n",
    "       \n",
    "        #cv2.imshow('asd',fram)\n",
    "        \n",
    "        \n",
    "        video_d.write(v_img)\n",
    "        if cv2.waitKey(30)&0xff==27:\n",
    "            break\n",
    "    if (time.time()-s_time)>60*2:\n",
    "        print('time out')\n",
    "        break\n",
    "video_d.release()\n",
    "cap.release()\n",
    "cv2.destroyAllWindows()"
   ]
  },
  {
   "cell_type": "code",
   "execution_count": null,
   "metadata": {
    "collapsed": true
   },
   "outputs": [],
   "source": [
    "cap.release()\n",
    "cv2.destroyAllWindows()"
   ]
  },
  {
   "cell_type": "code",
   "execution_count": null,
   "metadata": {
    "collapsed": true
   },
   "outputs": [],
   "source": [
    "/****************************************************************************/\n",
    "获取标定图片\n",
    "*****************************************************************************/"
   ]
  },
  {
   "cell_type": "code",
   "execution_count": null,
   "metadata": {
    "collapsed": true
   },
   "outputs": [],
   "source": [
    "import cv2\n",
    "import interface\n",
    "import os\n",
    "import numpy as np\n",
    "import pickle"
   ]
  },
  {
   "cell_type": "code",
   "execution_count": null,
   "metadata": {
    "collapsed": true
   },
   "outputs": [],
   "source": [
    "\n",
    "def drew_face_eye(img):\n",
    "        '''\n",
    "        检测用户当前环境是否能够比较好的识别面部特征\n",
    "        辨识出脸部以及眼部，标记出来\n",
    "        :param img:\n",
    "        :return:\n",
    "        '''\n",
    "        face_cascade = cv2.CascadeClassifier(r'D:\\Proj_DL\\Code\\Proj_EyeTraker\\haarcascade_frontalface_default.xml')\n",
    "        eye_cascade = cv2.CascadeClassifier(r'D:\\Proj_DL\\Code\\Proj_EyeTraker\\haarcascade_eye.xml')\n",
    "        gray = cv2.cvtColor(img, cv2.COLOR_BGR2GRAY)\n",
    "        faces = face_cascade.detectMultiScale(gray, 1.3,5)\n",
    "        #确保画面中只有一个人脸识别出来\n",
    "        if(len(faces)!=1):\n",
    "            return None\n",
    "        for (x,y,w,h) in faces:\n",
    "            cv2.rectangle(img,(x-10,y-10),(x+w+10,y+h+10),(255,0,0),2)\n",
    "            roi_gray = gray[y:y+h, x:x+w]\n",
    "            roi_color = img[y:y+h, x:x+w]\n",
    "            #保存脸部图像\n",
    "            face_mat=roi_color.copy()\n",
    "            #检测视频中脸部的眼睛，并用vector保存眼睛的坐标、大小（用矩形表示）\n",
    "            eyes = eye_cascade.detectMultiScale(roi_gray,scaleFactor=1.1, minNeighbors=5, minSize=(27, 27),\n",
    "                                                flags=cv2.CASCADE_SCALE_IMAGE)\n",
    "            if len(eyes)!= 2:\n",
    "                return None\n",
    "            eye_mat=[]\n",
    "            for e in eyes:\n",
    "                xe,ye,we,he=e\n",
    "                eye_mat.append(face_mat[ye:ye+he,xe:xe+we])\n",
    "                cv2.rectangle(roi_color,(xe-3,ye-3),(xe+we+3,ye+he+3),(0,0,255),2)\n",
    "        return  (img,face_mat,eye_mat)"
   ]
  },
  {
   "cell_type": "code",
   "execution_count": null,
   "metadata": {
    "collapsed": true
   },
   "outputs": [],
   "source": [
    "#开始标定\n",
    "cal_obj=interface.Cal_Interface(line_num=4,cal_time=16*2)\n",
    "cal_obj.starcalibrate()"
   ]
  },
  {
   "cell_type": "code",
   "execution_count": null,
   "metadata": {
    "collapsed": true
   },
   "outputs": [],
   "source": [
    "file_root=r'D:\\Proj_DL\\Code\\Proj_EyeTraker\\Proj_iTraker\\MIT_iTraker\\calimg_file_num'\n",
    "img_names=os.listdir(file_root)"
   ]
  },
  {
   "cell_type": "code",
   "execution_count": null,
   "metadata": {},
   "outputs": [],
   "source": [
    "len(img_names)"
   ]
  },
  {
   "cell_type": "code",
   "execution_count": null,
   "metadata": {
    "collapsed": true,
    "scrolled": true
   },
   "outputs": [],
   "source": [
    "#array([ 1.70154929, -1.93875003], dtype=float32) 标签格式\n",
    "y_cordinate=[]\n",
    "left_eye=[]\n",
    "right_eye=[]\n",
    "face_matrix=[]\n",
    "for f in img_names:\n",
    "    #x_,y_=f[:-4].split('_')[-2:]\n",
    "    #x_,y_=int(x_[-1]),int(y_[-1])\n",
    "    lable_id=int(f[:-4].split('_')[-1])\n",
    "    img=cv2.imread(os.path.join(file_root,f))\n",
    "    face_op=drew_face_eye(img)\n",
    "    if face_op == None:\n",
    "        #print('fail')\n",
    "        continue\n",
    "    img_,f,e=face_op\n",
    "    lable_=[0]*16\n",
    "    lable_[lable_id]=1\n",
    "    y_cordinate.append(lable_)\n",
    "    #print(lable_)\n",
    "    left_eye.append(cv2.resize(e[0],(64,64)))\n",
    "    right_eye.append(cv2.resize(e[1],(64,64)))\n",
    "    face_matrix.append(cv2.resize(f,(64,64)))\n",
    "    #cv2.imshow('asd',img_)\n",
    "    if cv2.waitKey(1)&0xff == 27:\n",
    "        break\n",
    "cv2.destroyAllWindows()\n",
    "y_cordinate=np.array(y_cordinate).astype('float32')\n",
    "\n",
    "left_eye=np.array(left_eye)\n",
    "left_eye=left_eye.astype('float32')-np.mean(left_eye,0)\n",
    "left_eye/=255.0\n",
    "\n",
    "right_eye=np.array(right_eye)\n",
    "right_eye=right_eye.astype('float32')-np.mean(right_eye,0)\n",
    "right_eye/=255.0\n",
    "\n",
    "face_matrix=np.array(face_matrix)\n",
    "face_matrix=face_matrix.astype('float32')-np.mean(face_matrix,0)\n",
    "face_matrix/=255.0\n",
    "\n"
   ]
  },
  {
   "cell_type": "code",
   "execution_count": null,
   "metadata": {
    "collapsed": true
   },
   "outputs": [],
   "source": [
    "pickle_dataname=''\n",
    "#保存 方差为 1 ，均值为 0 的数据\n",
    "cal_data={}\n",
    "cal_data['face']=face_matrix\n",
    "cal_data['mean_face']=np.mean(face_matrix,0)\n",
    "\n",
    "cal_data['right_eye']=right_eye\n",
    "cal_data['mean_right_eye']=np.mean(right_eye,0)\n",
    "\n",
    "cal_data['left_eye']=left_eye\n",
    "cal_data['mean_left_eye']=np.mean(left_eye,0)\n",
    "cal_data['y']=y_cordinate\n",
    "\n",
    "fp=open(pickle_dataname,'wb')\n",
    "pickle.dump(file=fp,obj=cal_data)\n",
    "fp.close()"
   ]
  },
  {
   "cell_type": "code",
   "execution_count": null,
   "metadata": {
    "collapsed": true
   },
   "outputs": [],
   "source": []
  },
  {
   "cell_type": "code",
   "execution_count": null,
   "metadata": {
    "collapsed": true
   },
   "outputs": [],
   "source": [
    "index=np.arange(face_matrix.shape[0])\n",
    "np.random.shuffle(index)\n",
    "tr_index=index[:int(index.shape[0]*0.7)]\n",
    "te_index=index[int(index.shape[0]*0.7):]\n",
    "val_left_eye,val_right_eye,val_face_matrix,val_y_cordinate=left_eye[te_index],right_eye[te_index],face_matrix[te_index],y_cordinate[te_index]\n",
    "tr_left_eye,tr_right_eye,tr_face_matrix,tr_y_cordinate=left_eye[tr_index],right_eye[tr_index],face_matrix[tr_index],y_cordinate[tr_index]\n",
    "y_cordinate=[]\n",
    "left_eye=[]\n",
    "right_eye=[]\n",
    "face_matrix=[]"
   ]
  },
  {
   "cell_type": "code",
   "execution_count": null,
   "metadata": {
    "collapsed": true
   },
   "outputs": [],
   "source": [
    "tr_left_eye.shape,val_left_eye.shape"
   ]
  },
  {
   "cell_type": "code",
   "execution_count": null,
   "metadata": {
    "collapsed": true
   },
   "outputs": [],
   "source": [
    "mean_left_eye=np.mean(tr_left_eye,0)\n",
    "mean_right_eye=np.mean(tr_right_eye,0)\n",
    "mean_face_matrix=np.mean(tr_face_matrix,0)"
   ]
  },
  {
   "cell_type": "code",
   "execution_count": null,
   "metadata": {
    "collapsed": true
   },
   "outputs": [],
   "source": []
  }
 ],
 "metadata": {
  "kernelspec": {
   "display_name": "Python 3",
   "language": "python",
   "name": "python3"
  },
  "language_info": {
   "codemirror_mode": {
    "name": "ipython",
    "version": 3
   },
   "file_extension": ".py",
   "mimetype": "text/x-python",
   "name": "python",
   "nbconvert_exporter": "python",
   "pygments_lexer": "ipython3",
   "version": "3.5.0"
  }
 },
 "nbformat": 4,
 "nbformat_minor": 2
}
