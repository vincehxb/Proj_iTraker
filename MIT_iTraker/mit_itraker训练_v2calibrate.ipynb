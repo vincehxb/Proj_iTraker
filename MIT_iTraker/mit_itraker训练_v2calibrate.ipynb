{
 "cells": [
  {
   "cell_type": "code",
   "execution_count": null,
   "metadata": {
    "collapsed": true
   },
   "outputs": [],
   "source": [
    "'''\n",
    "version 2\n",
    "去除 face mask\n",
    "2017年10月17日15:53:14\n",
    "    在预训练模型的基础下，对现实情形进行标定校正\n",
    "'''"
   ]
  },
  {
   "cell_type": "code",
   "execution_count": null,
   "metadata": {
    "collapsed": true
   },
   "outputs": [],
   "source": [
    "import tensorflow as tf\n",
    "import os\n",
    "import numpy as np\n",
    "from mit_eye_v2 import mit_itraker\n",
    "import time\n",
    "sess=tf.InteractiveSession()"
   ]
  },
  {
   "cell_type": "code",
   "execution_count": null,
   "metadata": {
    "collapsed": true
   },
   "outputs": [],
   "source": [
    "with tf.name_scope('PlaceHolder'):\n",
    "    LeftEye=tf.placeholder(tf.float32,[None,64,64,3],name='LeftEye')\n",
    "    RightEye=tf.placeholder(tf.float32,[None,64,64,3],'RightEye')\n",
    "    FaceOri=tf.placeholder(tf.float32,[None,64,64,3],'FaceOri')\n",
    "    #FaceMask=tf.placeholder(tf.float32,[None,25,25],'FaceMask')\n",
    "    Y=tf.placeholder(tf.float32,[None,2],name='Y')\n",
    "    LR=tf.placeholder(tf.float32,name='Learning_rate')\n",
    "    REG_RATE=tf.placeholder(tf.float32,name='Reg_rate')\n",
    "    DROPOUT=tf.placeholder(tf.float32,name='DropOut_rate')\n",
    "    BN_FLAG=tf.placeholder(tf.bool,name='BatchNormalizeFlag')"
   ]
  },
  {
   "cell_type": "code",
   "execution_count": null,
   "metadata": {},
   "outputs": [],
   "source": [
    "with tf.name_scope('MIT_Model'):\n",
    "    model=mit_itraker(r'D:\\Data warehouse\\Face_Picture\\eye_tracker_train_and_val',left_eye=LeftEye,right_eye=RightEye,face_ori=FaceOri,\\\n",
    "                      dropout=DROPOUT,bn_train=BN_FLAG,reg_rate=REG_RATE)\n",
    "    y_pre=model.coordinate"
   ]
  },
  {
   "cell_type": "code",
   "execution_count": null,
   "metadata": {
    "collapsed": true
   },
   "outputs": [],
   "source": [
    "with tf.name_scope('LOSS'):\n",
    "    Loss=(tf.losses.mean_squared_error(Y,y_pre))+tf.add_n(tf.get_collection('loss_w'))\n",
    "    tf.summary.scalar('loss',Loss)\n",
    "    ERR=tf.reduce_mean(tf.sqrt(tf.reduce_sum(tf.squared_difference(y_pre, Y), axis=1)))\n",
    "    tf.summary.scalar('err',ERR)\n",
    "with tf.name_scope('Trainer'):\n",
    "    Trainer=tf.train.AdamOptimizer(LR).minimize(Loss)\n",
    "\n",
    "with tf.name_scope('Logger'):\n",
    "    init=tf.global_variables_initializer()\n",
    "\n",
    "    writer_tr=tf.summary.FileWriter('./mylog/train_nofg_cal',sess.graph)\n",
    "    writer_te=tf.summary.FileWriter('./mylog/val_nofg_cal')\n",
    "    merge=tf.summary.merge_all()"
   ]
  },
  {
   "cell_type": "code",
   "execution_count": null,
   "metadata": {},
   "outputs": [],
   "source": [
    "# data=model.data\n",
    "model.data=None\n",
    "bn_ops=tf.get_collection(tf.GraphKeys.UPDATE_OPS)\n",
    "'''\n",
    "['val_face', 'train_eye_left', 'train_y', 'train_eye_right', 'val_y', 'train_face_mask', 'train_face',\n",
    "'val_eye_right', 'val_face_mask', 'val_eye_left']\n",
    "'''"
   ]
  },
  {
   "cell_type": "code",
   "execution_count": null,
   "metadata": {
    "collapsed": true
   },
   "outputs": [],
   "source": [
    "#重新训练\n",
    "sess.run(init)\n",
    "saver=tf.train.Saver()"
   ]
  },
  {
   "cell_type": "code",
   "execution_count": null,
   "metadata": {},
   "outputs": [],
   "source": [
    "#加载保存的模型，继续训练\n",
    "saver=tf.train.Saver()\n",
    "#saver=tf.train.Saver()\n",
    "saver.restore(sess,'./model_save/model_mit_cal_1017/model_10172130.ckpt-19867')"
   ]
  },
  {
   "cell_type": "code",
   "execution_count": null,
   "metadata": {
    "collapsed": true
   },
   "outputs": [],
   "source": [
    "# val_left_eye,val_right_eye,val_face_matrix,val_y_cordinate=left_eye[te_index],right_eye[te_index],face_matrix[te_index],y_cordinate[te_index]\n",
    "# tr_left_eye,tr_right_eye,tr_face_matrix,tr_y_cordinate=left_eye[tr_index],right_eye[tr_index],face_matrix[tr_index],y_cordinate[tr_index]"
   ]
  },
  {
   "cell_type": "code",
   "execution_count": null,
   "metadata": {
    "scrolled": true
   },
   "outputs": [],
   "source": [
    "#130 个loop用时1分钟 无BN,dropout\n",
    "#5000 个loop用时1h 有BN,dropout\n",
    "batch_size=128\n",
    "dp_=0.5\n",
    "lr_=1e-3\n",
    "rg_rate_=1e-4\n",
    "s_time=time.time()\n",
    "best_val_err=100\n",
    "err_delta=0.05\n",
    "for i_ in range(5000*15):\n",
    "    mask=np.random.choice(range(tr_left_eye.shape[0]),batch_size,replace=False)\n",
    "    face_=tr_face_matrix[mask]\n",
    "    left_eye_,right_eye_=tr_left_eye[mask],tr_right_eye[mask]\n",
    "    y_=tr_y_cordinate[mask]\n",
    "    feed_dict={LeftEye:left_eye_,  RightEye:right_eye_,  FaceOri:face_,  \\\n",
    "              Y:y_,LR:lr_,  DROPOUT:dp_,  BN_FLAG:True,  REG_RATE:rg_rate_}\n",
    "    sess.run([Trainer,bn_ops],feed_dict=feed_dict)\n",
    "    if i_%5==0:\n",
    "        feed_dict={LeftEye:left_eye_,RightEye:right_eye_,FaceOri:face_,\\\n",
    "              Y:y_,LR:lr_,DROPOUT:1.,BN_FLAG:False,REG_RATE:rg_rate_}\n",
    "        loss_,m_,_=sess.run([Loss,merge,bn_ops],feed_dict=feed_dict)\n",
    "        writer_tr.add_summary(m_,i_)\n",
    "        print('epoch:{},loss:{}'.format(i_,loss_))\n",
    "    if i_%10==0:\n",
    "        #mask=np.random.choice(range(5000),batch_size,replace=False)\n",
    "        face_=val_face_matrix\n",
    "        left_eye_,right_eye_=val_left_eye,val_right_eye\n",
    "        y_=val_y_cordinate\n",
    "        feed_dict={LeftEye:left_eye_,RightEye:right_eye_,FaceOri:face_,\\\n",
    "                  Y:y_,LR:lr_,DROPOUT:1.,BN_FLAG:False,REG_RATE:rg_rate_}\n",
    "        loss_,err_,m_,_=sess.run([Loss,ERR,merge,bn_ops],feed_dict=feed_dict)\n",
    "        writer_te.add_summary(m_,i_)\n",
    "        print('--epoch:{},loss:{},error:{}'.format(i_,loss_,err_))\n",
    "        #保存模型\n",
    "#         if err_<0:\n",
    "#             if err_+err_delta<best_val_err:\n",
    "#                 best_val_err=err_\n",
    "#                 err_val=str(int(err_*100))\n",
    "#                 saver.save(sess,'./model_save/model_mit/model_err'+err_val+'.ckpt',global_step=i_)\n",
    "#                 print('@@@epoch:{},best err:{},model save'.format(i_,best_val_err))\n",
    "#     if i_%(5000)==0:\n",
    "#         lr_=max(1e-5,lr_*0.9)\n",
    "#         print(\"**epoch:{},lr:{}\".format(i_,lr_))\n",
    "e_time=time.time()\n",
    "run_time=e_time-s_time\n",
    "print('Trainning Time:{:.0f} h,{:.0f} min,{:.2f} sec'.format(run_time//3600,(run_time%3600)//60,run_time%60))\n"
   ]
  },
  {
   "cell_type": "code",
   "execution_count": null,
   "metadata": {},
   "outputs": [],
   "source": [
    "saver.save(sess,'./model_save/model_mit_cal_1017/model_10172130'+'.ckpt',global_step=i_)"
   ]
  },
  {
   "cell_type": "code",
   "execution_count": null,
   "metadata": {
    "collapsed": true
   },
   "outputs": [],
   "source": [
    "import cv2\n",
    "import time"
   ]
  },
  {
   "cell_type": "code",
   "execution_count": null,
   "metadata": {},
   "outputs": [],
   "source": [
    "#%debug\n",
    "cap=cv2.VideoCapture(0)\n",
    "s_time=time.time()\n",
    "while True:\n",
    "    ret,fram=cap.read()\n",
    "    if ret:\n",
    "        face_op=drew_face_eye(fram)\n",
    "        if face_op == None:\n",
    "            #print('fail')\n",
    "            continue\n",
    "        img_,f,e=face_op\n",
    "        left_eye_=cv2.resize(e[0],(64,64)).reshape((1,64,64,3))\n",
    "        right_eye_=cv2.resize(e[1],(64,64)).reshape((1,64,64,3))\n",
    "        face_=cv2.resize(f,(64,64)).reshape((1,64,64,3))\n",
    "        \n",
    "        feed_dict={LeftEye:left_eye_,RightEye:right_eye_,FaceOri:face_,\\\n",
    "                 DROPOUT:1.,BN_FLAG:False}\n",
    "        y_cori=sess.run(y_pre,feed_dict=feed_dict)\n",
    "        print(y_cori)\n",
    "        cv2.imshow('asd',fram)\n",
    "        if cv2.waitKey()&0xff==27:\n",
    "            break\n",
    "    if (time.time()-s_time)>10:\n",
    "        print('time out')\n",
    "        break\n",
    "cap.release()\n",
    "cv2.destroyAllWindows()"
   ]
  },
  {
   "cell_type": "code",
   "execution_count": null,
   "metadata": {
    "collapsed": true
   },
   "outputs": [],
   "source": [
    "cap.release()\n",
    "cv2.destroyAllWindows()"
   ]
  },
  {
   "cell_type": "code",
   "execution_count": null,
   "metadata": {
    "collapsed": true
   },
   "outputs": [],
   "source": [
    "xy_cor="
   ]
  },
  {
   "cell_type": "code",
   "execution_count": null,
   "metadata": {
    "collapsed": true
   },
   "outputs": [],
   "source": [
    "/****************************************************************************/\n",
    "获取标定图片\n",
    "*****************************************************************************/"
   ]
  },
  {
   "cell_type": "code",
   "execution_count": null,
   "metadata": {
    "collapsed": true
   },
   "outputs": [],
   "source": [
    "import cv2\n",
    "import interface\n",
    "import os\n",
    "import numpy as np"
   ]
  },
  {
   "cell_type": "code",
   "execution_count": null,
   "metadata": {
    "collapsed": true
   },
   "outputs": [],
   "source": [
    "\n",
    "def drew_face_eye(img):\n",
    "        '''\n",
    "        检测用户当前环境是否能够比较好的识别面部特征\n",
    "        辨识出脸部以及眼部，标记出来\n",
    "        :param img:\n",
    "        :return:\n",
    "        '''\n",
    "        face_cascade = cv2.CascadeClassifier(r'D:\\Proj_DL\\Code\\Proj_EyeTraker\\haarcascade_frontalface_default.xml')\n",
    "        eye_cascade = cv2.CascadeClassifier(r'D:\\Proj_DL\\Code\\Proj_EyeTraker\\haarcascade_eye.xml')\n",
    "        gray = cv2.cvtColor(img, cv2.COLOR_BGR2GRAY)\n",
    "        faces = face_cascade.detectMultiScale(gray, 1.3,5)\n",
    "        #确保画面中只有一个人脸识别出来\n",
    "        if(len(faces)!=1):\n",
    "            return None\n",
    "        for (x,y,w,h) in faces:\n",
    "            cv2.rectangle(img,(x-10,y-10),(x+w+10,y+h+10),(255,0,0),2)\n",
    "            roi_gray = gray[y:y+h, x:x+w]\n",
    "            roi_color = img[y:y+h, x:x+w]\n",
    "            #保存脸部图像\n",
    "            face_mat=roi_color.copy()\n",
    "            #检测视频中脸部的眼睛，并用vector保存眼睛的坐标、大小（用矩形表示）\n",
    "            eyes = eye_cascade.detectMultiScale(roi_gray,scaleFactor=1.3, minNeighbors=7, minSize=(50, 50),\n",
    "                                                flags=cv2.CASCADE_SCALE_IMAGE)\n",
    "            if len(eyes)!= 2:\n",
    "                return None\n",
    "            eye_mat=[]\n",
    "            for e in eyes:\n",
    "                xe,ye,we,he=e\n",
    "                eye_mat.append(face_mat[ye:ye+he,xe:xe+we])\n",
    "                cv2.rectangle(roi_color,(xe-3,ye-3),(xe+we+3,ye+he+3),(0,0,255),2)\n",
    "        return  (img,face_mat,eye_mat)"
   ]
  },
  {
   "cell_type": "code",
   "execution_count": null,
   "metadata": {
    "collapsed": true
   },
   "outputs": [],
   "source": [
    "cal_obj=interface.Cal_Interface(line_num=4,cal_time=16*2)"
   ]
  },
  {
   "cell_type": "code",
   "execution_count": null,
   "metadata": {},
   "outputs": [],
   "source": [
    "cal_obj.starcalibrate()"
   ]
  },
  {
   "cell_type": "code",
   "execution_count": null,
   "metadata": {},
   "outputs": [],
   "source": [
    "file_root=r'D:\\Proj_DL\\Code\\Proj_EyeTraker\\Proj_iTraker\\MIT_iTraker\\calimg_file'\n",
    "img_names=os.listdir(file_root)"
   ]
  },
  {
   "cell_type": "code",
   "execution_count": null,
   "metadata": {
    "scrolled": true
   },
   "outputs": [],
   "source": [
    "#array([ 1.70154929, -1.93875003], dtype=float32) 标签格式\n",
    "y_cordinate=[]\n",
    "left_eye=[]\n",
    "right_eye=[]\n",
    "face_matrix=[]\n",
    "for f in img_names:\n",
    "    x_,y_=f[:-4].split('_')[-2:]\n",
    "    x_,y_=int(x_[-1]),int(y_[-1])\n",
    "    img=cv2.imread(os.path.join(file_root,f))\n",
    "    face_op=drew_face_eye(img)\n",
    "    if face_op == None:\n",
    "        #print('fail')\n",
    "        continue\n",
    "    img_,f,e=face_op\n",
    "    y_cordinate.append([x_,y_])\n",
    "    \n",
    "    left_eye.append(cv2.resize(e[0],(64,64)))\n",
    "    right_eye.append(cv2.resize(e[1],(64,64)))\n",
    "    face_matrix.append(cv2.resize(f,(64,64)))\n",
    "    #cv2.imshow('asd',img_)\n",
    "    if cv2.waitKey(1)&0xff == 27:\n",
    "        break\n",
    "cv2.destroyAllWindows()\n",
    "y_cordinate=np.array(y_cordinate).astype('float32')\n",
    "\n",
    "left_eye=np.array(left_eye)\n",
    "left_eye=left_eye.astype('float32')-np.mean(left_eye,0)\n",
    "left_eye/=255.0\n",
    "\n",
    "right_eye=np.array(right_eye)\n",
    "right_eye=right_eye.astype('float32')-np.mean(right_eye,0)\n",
    "right_eye/=255.0\n",
    "\n",
    "face_matrix=np.array(face_matrix)\n",
    "face_matrix=face_matrix.astype('float32')-np.mean(face_matrix,0)\n",
    "face_matrix/=255.0\n",
    "\n"
   ]
  },
  {
   "cell_type": "code",
   "execution_count": null,
   "metadata": {},
   "outputs": [],
   "source": [
    "index=np.arange(face_matrix.shape[0])\n",
    "np.random.shuffle(index)\n",
    "tr_index=index[:int(index.shape[0]*0.7)]\n",
    "te_index=index[int(index.shape[0]*0.7):]\n",
    "val_left_eye,val_right_eye,val_face_matrix,val_y_cordinate=left_eye[te_index],right_eye[te_index],face_matrix[te_index],y_cordinate[te_index]\n",
    "tr_left_eye,tr_right_eye,tr_face_matrix,tr_y_cordinate=left_eye[tr_index],right_eye[tr_index],face_matrix[tr_index],y_cordinate[tr_index]\n",
    "y_cordinate=[]\n",
    "left_eye=[]\n",
    "right_eye=[]\n",
    "face_matrix=[]"
   ]
  },
  {
   "cell_type": "code",
   "execution_count": null,
   "metadata": {},
   "outputs": [],
   "source": [
    "tr_left_eye.shape,val_left_eye.shape"
   ]
  },
  {
   "cell_type": "code",
   "execution_count": null,
   "metadata": {
    "collapsed": true
   },
   "outputs": [],
   "source": []
  }
 ],
 "metadata": {
  "kernelspec": {
   "display_name": "Python 3",
   "language": "python",
   "name": "python3"
  },
  "language_info": {
   "codemirror_mode": {
    "name": "ipython",
    "version": 3
   },
   "file_extension": ".py",
   "mimetype": "text/x-python",
   "name": "python",
   "nbconvert_exporter": "python",
   "pygments_lexer": "ipython3",
   "version": "3.5.0"
  }
 },
 "nbformat": 4,
 "nbformat_minor": 2
}
